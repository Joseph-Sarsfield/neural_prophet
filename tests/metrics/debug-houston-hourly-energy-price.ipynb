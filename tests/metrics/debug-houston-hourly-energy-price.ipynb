{
 "cells": [
  {
   "cell_type": "code",
   "execution_count": 1,
   "metadata": {},
   "outputs": [],
   "source": [
    "import os\n",
    "import pathlib\n",
    "\n",
    "import numpy as np\n",
    "import pandas as pd\n",
    "import plotly.graph_objects as go\n",
    "from plotly.subplots import make_subplots\n",
    "from plotly_resampler import unregister_plotly_resampler\n",
    "\n",
    "from neuralprophet import NeuralProphet, set_random_seed"
   ]
  },
  {
   "cell_type": "code",
   "execution_count": null,
   "metadata": {},
   "outputs": [],
   "source": []
  },
  {
   "cell_type": "code",
   "execution_count": 2,
   "metadata": {},
   "outputs": [],
   "source": [
    "def create_metrics_plot(metrics):\n",
    "    # Deactivate the resampler since it is not compatible with kaleido (image export)\n",
    "    unregister_plotly_resampler()\n",
    "\n",
    "    # Plotly params\n",
    "    prediction_color = \"#2d92ff\"\n",
    "    actual_color = \"black\"\n",
    "    line_width = 2\n",
    "    xaxis_args = {\"showline\": True, \"mirror\": True, \"linewidth\": 1.5, \"showgrid\": False}\n",
    "    yaxis_args = {\n",
    "        \"showline\": True,\n",
    "        \"mirror\": True,\n",
    "        \"linewidth\": 1.5,\n",
    "        \"showgrid\": False,\n",
    "        \"rangemode\": \"tozero\",\n",
    "        \"type\": \"log\",\n",
    "    }\n",
    "    layout_args = {\n",
    "        \"autosize\": True,\n",
    "        \"template\": \"plotly_white\",\n",
    "        \"margin\": go.layout.Margin(l=0, r=10, b=0, t=30, pad=0),\n",
    "        \"font\": dict(size=10),\n",
    "        \"title\": dict(font=dict(size=10)),\n",
    "        \"width\": 1000,\n",
    "        \"height\": 200,\n",
    "    }\n",
    "\n",
    "    metric_cols = [col for col in metrics.columns if not (\"_val\" in col or col == \"RegLoss\" or col == \"epoch\")]\n",
    "    fig = make_subplots(rows=1, cols=len(metric_cols), subplot_titles=metric_cols)\n",
    "    for i, metric in enumerate(metric_cols):\n",
    "        fig.add_trace(\n",
    "            go.Scatter(\n",
    "                y=metrics[metric],\n",
    "                name=metric,\n",
    "                mode=\"lines\",\n",
    "                line=dict(color=prediction_color, width=line_width),\n",
    "                legendgroup=metric,\n",
    "            ),\n",
    "            row=1,\n",
    "            col=i + 1,\n",
    "        )\n",
    "        if f\"{metric}_val\" in metrics.columns:\n",
    "            fig.add_trace(\n",
    "                go.Scatter(\n",
    "                    y=metrics[f\"{metric}_val\"],\n",
    "                    name=f\"{metric}_val\",\n",
    "                    mode=\"lines\",\n",
    "                    line=dict(color=actual_color, width=line_width),\n",
    "                    legendgroup=metric,\n",
    "                ),\n",
    "                row=1,\n",
    "                col=i + 1,\n",
    "            )\n",
    "        if metric == \"Loss\":\n",
    "            fig.add_trace(\n",
    "                go.Scatter(\n",
    "                    y=metrics[\"RegLoss\"],\n",
    "                    name=\"RegLoss\",\n",
    "                    mode=\"lines\",\n",
    "                    line=dict(color=actual_color, width=line_width),\n",
    "                    legendgroup=metric,\n",
    "                ),\n",
    "                row=1,\n",
    "                col=i + 1,\n",
    "            )\n",
    "    fig.update_xaxes(xaxis_args)\n",
    "    fig.update_yaxes(yaxis_args)\n",
    "    fig.update_layout(layout_args)\n",
    "    return fig"
   ]
  },
  {
   "cell_type": "code",
   "execution_count": 3,
   "metadata": {},
   "outputs": [],
   "source": [
    "DIR = \"~/github/neural_prophet\"\n",
    "DATA_DIR = os.path.join(DIR, \"tests\", \"test-data\")\n",
    "houston_file = os.path.join(DATA_DIR, \"houston_hourly_energy_price.csv\")"
   ]
  },
  {
   "cell_type": "code",
   "execution_count": 20,
   "metadata": {},
   "outputs": [
    {
     "data": {
      "text/plain": [
       "<Axes: >"
      ]
     },
     "execution_count": 20,
     "metadata": {},
     "output_type": "execute_result"
    },
    {
     "data": {
      "image/png": "[encoded data removed]",
      "text/plain": [
       "<Figure size 640x480 with 1 Axes>"
      ]
     },
     "metadata": {},
     "output_type": "display_data"
    }
   ],
   "source": [
    "df = pd.read_csv(houston_file)\n",
    "df[\"y\"] = np.log(1 + df[\"y\"].apply(lambda x: max(0, x)))\n",
    "df.plot()"
   ]
  },
  {
   "cell_type": "code",
   "execution_count": 5,
   "metadata": {},
   "outputs": [
    {
     "data": {
      "text/plain": [
       "<neuralprophet.forecaster.NeuralProphet at 0x7472c4f00250>"
      ]
     },
     "execution_count": 5,
     "metadata": {},
     "output_type": "execute_result"
    }
   ],
   "source": [
    "m = NeuralProphet(\n",
    "    changepoints_range=5.0 / 6.0,\n",
    "    n_changepoints=5,\n",
    "    yearly_seasonality=3,\n",
    "    weekly_seasonality=6,\n",
    "    daily_seasonality=8,\n",
    "    n_lags=72,\n",
    "    n_forecasts=24,\n",
    "    ar_layers=[16, 8, 8],\n",
    "    newer_samples_weight=1,\n",
    "    # quantiles=[0.05, 0.95],\n",
    ")\n",
    "m.add_country_holidays(\"US\", lower_window=1, upper_window=1)"
   ]
  },
  {
   "cell_type": "code",
   "execution_count": 6,
   "metadata": {},
   "outputs": [
    {
     "name": "stderr",
     "output_type": "stream",
     "text": [
      "INFO - (NP.df_utils._infer_frequency) - Major frequency H corresponds to 99.976% of the data.\n",
      "INFO - (NP.df_utils._infer_frequency) - Defined frequency is equal to major frequency - H\n",
      "INFO - (NP.df_utils.return_df_in_original_format) - Returning df with no ID column\n",
      "INFO - (NP.df_utils.return_df_in_original_format) - Returning df with no ID column\n"
     ]
    },
    {
     "data": {
      "text/plain": [
       "<Axes: >"
      ]
     },
     "execution_count": 6,
     "metadata": {},
     "output_type": "execute_result"
    },
    {
     "data": {
      "image/png": "[encoded data removed]",
      "text/plain": [
       "<Figure size 640x480 with 1 Axes>"
      ]
     },
     "metadata": {},
     "output_type": "display_data"
    }
   ],
   "source": [
    "df_train, df_test = m.split_df(df=df, freq=\"H\", valid_p=1.0 / 7.0)\n",
    "df_test[\"y\"].plot()"
   ]
  },
  {
   "cell_type": "code",
   "execution_count": 7,
   "metadata": {},
   "outputs": [
    {
     "name": "stderr",
     "output_type": "stream",
     "text": [
      "WARNING - (NP.forecaster.fit) - When Global modeling with local normalization, metrics are displayed in normalized scale.\n",
      "INFO - (NP.df_utils._infer_frequency) - Major frequency H corresponds to 99.973% of the data.\n",
      "INFO - (NP.df_utils._infer_frequency) - Defined frequency is equal to major frequency - H\n",
      "INFO - (NP.config.init_data_params) - Setting normalization to global as only one dataframe provided for training.\n",
      "INFO - (NP.config.set_auto_batch_epoch) - Auto-set batch_size to 256\n",
      "INFO - (NP.config.set_auto_batch_epoch) - Auto-set epochs to 30\n",
      "WARNING - (NP.config.set_lr_finder_args) - Learning rate finder: The number of batches (205) is too small than the required number                     for the learning rate finder (268). The results might not be optimal.\n"
     ]
    },
    {
     "data": {
      "application/vnd.jupyter.widget-view+json": {
       "model_id": "a4da5a7a3a9b46dfb4ac243a1e4f6bed",
       "version_major": 2,
       "version_minor": 0
      },
      "text/plain": [
       "Finding best initial lr:   0%|          | 0/268 [00:00<?, ?it/s]"
      ]
     },
     "metadata": {},
     "output_type": "display_data"
    },
    {
     "data": {
      "application/vnd.jupyter.widget-view+json": {
       "model_id": "f0003c7fe0ff47398c44aaf5ca1f3ae6",
       "version_major": 2,
       "version_minor": 0
      },
      "text/plain": [
       "Training: 0it [00:00, ?it/s]"
      ]
     },
     "metadata": {},
     "output_type": "display_data"
    },
    {
     "data": {
      "application/vnd.jupyter.widget-view+json": {
       "model_id": "e882851a8b004ff188b5e467c79c9cfe",
       "version_major": 2,
       "version_minor": 0
      },
      "text/plain": [
       "Validation: 0it [00:00, ?it/s]"
      ]
     },
     "metadata": {},
     "output_type": "display_data"
    },
    {
     "data": {
      "application/vnd.jupyter.widget-view+json": {
       "model_id": "d7f79bd6d5df4343914d2b4358a0aa5d",
       "version_major": 2,
       "version_minor": 0
      },
      "text/plain": [
       "Validation: 0it [00:00, ?it/s]"
      ]
     },
     "metadata": {},
     "output_type": "display_data"
    },
    {
     "data": {
      "application/vnd.jupyter.widget-view+json": {
       "model_id": "d934feadae264b4aa37d9e651bcd4ec9",
       "version_major": 2,
       "version_minor": 0
      },
      "text/plain": [
       "Validation: 0it [00:00, ?it/s]"
      ]
     },
     "metadata": {},
     "output_type": "display_data"
    },
    {
     "data": {
      "application/vnd.jupyter.widget-view+json": {
       "model_id": "a9213c40b09f4791af4585ef0806f436",
       "version_major": 2,
       "version_minor": 0
      },
      "text/plain": [
       "Validation: 0it [00:00, ?it/s]"
      ]
     },
     "metadata": {},
     "output_type": "display_data"
    },
    {
     "data": {
      "application/vnd.jupyter.widget-view+json": {
       "model_id": "6edfac0cee3644e9a26c6489f82a4c13",
       "version_major": 2,
       "version_minor": 0
      },
      "text/plain": [
       "Validation: 0it [00:00, ?it/s]"
      ]
     },
     "metadata": {},
     "output_type": "display_data"
    },
    {
     "data": {
      "application/vnd.jupyter.widget-view+json": {
       "model_id": "0466057044ba4a2b8c2d96f117fdf696",
       "version_major": 2,
       "version_minor": 0
      },
      "text/plain": [
       "Validation: 0it [00:00, ?it/s]"
      ]
     },
     "metadata": {},
     "output_type": "display_data"
    },
    {
     "data": {
      "application/vnd.jupyter.widget-view+json": {
       "model_id": "f3cfe3c5429b4fbe93885fbeaf6ddfe8",
       "version_major": 2,
       "version_minor": 0
      },
      "text/plain": [
       "Validation: 0it [00:00, ?it/s]"
      ]
     },
     "metadata": {},
     "output_type": "display_data"
    },
    {
     "data": {
      "application/vnd.jupyter.widget-view+json": {
       "model_id": "ec110177d72745519773e83c6a9b3ed0",
       "version_major": 2,
       "version_minor": 0
      },
      "text/plain": [
       "Validation: 0it [00:00, ?it/s]"
      ]
     },
     "metadata": {},
     "output_type": "display_data"
    },
    {
     "data": {
      "application/vnd.jupyter.widget-view+json": {
       "model_id": "34a0507e8ca04e7390f8af1dc13b0598",
       "version_major": 2,
       "version_minor": 0
      },
      "text/plain": [
       "Validation: 0it [00:00, ?it/s]"
      ]
     },
     "metadata": {},
     "output_type": "display_data"
    },
    {
     "data": {
      "application/vnd.jupyter.widget-view+json": {
       "model_id": "ea555ddc2c08406d8afd34c916fc92e7",
       "version_major": 2,
       "version_minor": 0
      },
      "text/plain": [
       "Validation: 0it [00:00, ?it/s]"
      ]
     },
     "metadata": {},
     "output_type": "display_data"
    },
    {
     "data": {
      "application/vnd.jupyter.widget-view+json": {
       "model_id": "93accaba503c4e5aa9b2476091c14875",
       "version_major": 2,
       "version_minor": 0
      },
      "text/plain": [
       "Validation: 0it [00:00, ?it/s]"
      ]
     },
     "metadata": {},
     "output_type": "display_data"
    },
    {
     "data": {
      "application/vnd.jupyter.widget-view+json": {
       "model_id": "4a42080f9af24f59ac3406ebd3e14098",
       "version_major": 2,
       "version_minor": 0
      },
      "text/plain": [
       "Validation: 0it [00:00, ?it/s]"
      ]
     },
     "metadata": {},
     "output_type": "display_data"
    },
    {
     "data": {
      "application/vnd.jupyter.widget-view+json": {
       "model_id": "f480f0ecb1e5465297e78dd9a0559015",
       "version_major": 2,
       "version_minor": 0
      },
      "text/plain": [
       "Validation: 0it [00:00, ?it/s]"
      ]
     },
     "metadata": {},
     "output_type": "display_data"
    },
    {
     "data": {
      "application/vnd.jupyter.widget-view+json": {
       "model_id": "473824400bae4954815dd7e82779e1e8",
       "version_major": 2,
       "version_minor": 0
      },
      "text/plain": [
       "Validation: 0it [00:00, ?it/s]"
      ]
     },
     "metadata": {},
     "output_type": "display_data"
    },
    {
     "data": {
      "application/vnd.jupyter.widget-view+json": {
       "model_id": "5d11605ac6cf46d19a57e3f62842f30d",
       "version_major": 2,
       "version_minor": 0
      },
      "text/plain": [
       "Validation: 0it [00:00, ?it/s]"
      ]
     },
     "metadata": {},
     "output_type": "display_data"
    },
    {
     "data": {
      "application/vnd.jupyter.widget-view+json": {
       "model_id": "cb25d55041c041bca01ea9da34134c73",
       "version_major": 2,
       "version_minor": 0
      },
      "text/plain": [
       "Validation: 0it [00:00, ?it/s]"
      ]
     },
     "metadata": {},
     "output_type": "display_data"
    },
    {
     "data": {
      "application/vnd.jupyter.widget-view+json": {
       "model_id": "9f3b48d1c4934d949a9d1a013351f9c5",
       "version_major": 2,
       "version_minor": 0
      },
      "text/plain": [
       "Validation: 0it [00:00, ?it/s]"
      ]
     },
     "metadata": {},
     "output_type": "display_data"
    },
    {
     "data": {
      "application/vnd.jupyter.widget-view+json": {
       "model_id": "9da887a470a14a8f900e77791a070f1c",
       "version_major": 2,
       "version_minor": 0
      },
      "text/plain": [
       "Validation: 0it [00:00, ?it/s]"
      ]
     },
     "metadata": {},
     "output_type": "display_data"
    },
    {
     "data": {
      "application/vnd.jupyter.widget-view+json": {
       "model_id": "bfbd29bb3b20465b91c2f8fe2ca6f731",
       "version_major": 2,
       "version_minor": 0
      },
      "text/plain": [
       "Validation: 0it [00:00, ?it/s]"
      ]
     },
     "metadata": {},
     "output_type": "display_data"
    },
    {
     "data": {
      "application/vnd.jupyter.widget-view+json": {
       "model_id": "0586711acd814b7f801f0670d6b8bb27",
       "version_major": 2,
       "version_minor": 0
      },
      "text/plain": [
       "Validation: 0it [00:00, ?it/s]"
      ]
     },
     "metadata": {},
     "output_type": "display_data"
    },
    {
     "data": {
      "application/vnd.jupyter.widget-view+json": {
       "model_id": "cb1d21d576c74f21a612617fbc4dd7ec",
       "version_major": 2,
       "version_minor": 0
      },
      "text/plain": [
       "Validation: 0it [00:00, ?it/s]"
      ]
     },
     "metadata": {},
     "output_type": "display_data"
    },
    {
     "data": {
      "application/vnd.jupyter.widget-view+json": {
       "model_id": "593b84a2b0df4a2fa95671552768bbff",
       "version_major": 2,
       "version_minor": 0
      },
      "text/plain": [
       "Validation: 0it [00:00, ?it/s]"
      ]
     },
     "metadata": {},
     "output_type": "display_data"
    },
    {
     "data": {
      "application/vnd.jupyter.widget-view+json": {
       "model_id": "37a0e2ea26264bb398bca7aaa722305c",
       "version_major": 2,
       "version_minor": 0
      },
      "text/plain": [
       "Validation: 0it [00:00, ?it/s]"
      ]
     },
     "metadata": {},
     "output_type": "display_data"
    },
    {
     "data": {
      "application/vnd.jupyter.widget-view+json": {
       "model_id": "593f4b2911ed44a7a871a53f92968ccf",
       "version_major": 2,
       "version_minor": 0
      },
      "text/plain": [
       "Validation: 0it [00:00, ?it/s]"
      ]
     },
     "metadata": {},
     "output_type": "display_data"
    },
    {
     "data": {
      "application/vnd.jupyter.widget-view+json": {
       "model_id": "f0fac95c70f542eea8bb0eb90fa78cd5",
       "version_major": 2,
       "version_minor": 0
      },
      "text/plain": [
       "Validation: 0it [00:00, ?it/s]"
      ]
     },
     "metadata": {},
     "output_type": "display_data"
    },
    {
     "data": {
      "application/vnd.jupyter.widget-view+json": {
       "model_id": "8295f8946d8a4b088edc540c3eb5f64e",
       "version_major": 2,
       "version_minor": 0
      },
      "text/plain": [
       "Validation: 0it [00:00, ?it/s]"
      ]
     },
     "metadata": {},
     "output_type": "display_data"
    },
    {
     "data": {
      "application/vnd.jupyter.widget-view+json": {
       "model_id": "6ff727c3381b4a72a0b887772ece9c01",
       "version_major": 2,
       "version_minor": 0
      },
      "text/plain": [
       "Validation: 0it [00:00, ?it/s]"
      ]
     },
     "metadata": {},
     "output_type": "display_data"
    },
    {
     "data": {
      "application/vnd.jupyter.widget-view+json": {
       "model_id": "5d192bbc655443099805ef2ba4e126d4",
       "version_major": 2,
       "version_minor": 0
      },
      "text/plain": [
       "Validation: 0it [00:00, ?it/s]"
      ]
     },
     "metadata": {},
     "output_type": "display_data"
    },
    {
     "data": {
      "application/vnd.jupyter.widget-view+json": {
       "model_id": "8f970f9f8f8144d7bc21303f9c14124a",
       "version_major": 2,
       "version_minor": 0
      },
      "text/plain": [
       "Validation: 0it [00:00, ?it/s]"
      ]
     },
     "metadata": {},
     "output_type": "display_data"
    },
    {
     "data": {
      "application/vnd.jupyter.widget-view+json": {
       "model_id": "b9440ecd7a8147e9aa34549e3d293fb2",
       "version_major": 2,
       "version_minor": 0
      },
      "text/plain": [
       "Validation: 0it [00:00, ?it/s]"
      ]
     },
     "metadata": {},
     "output_type": "display_data"
    }
   ],
   "source": [
    "metrics = m.fit(df_train, validation_df=df_test, freq=\"H\")  # , early_stopping=True)"
   ]
  },
  {
   "cell_type": "code",
   "execution_count": 8,
   "metadata": {},
   "outputs": [
    {
     "data": {
      "application/vnd.plotly.v1+json": {
       "config": {
        "plotlyServerURL": "https://plot.ly"
       },
       "data": [
        {
         "legendgroup": "MAE",
         "line": {
          "color": "#2d92ff",
          "width": 2
         },
         "mode": "lines",
         "name": "MAE",
         "type": "scatter",
         "xaxis": "x",
         "y": [
          516.68701171875,
          271.42962646484375,
          210.68650817871094,
          151.65174865722656,
          91.28775024414062,
          43.4237174987793,
          35.474853515625,
          33.989967346191406,
          32.838134765625,
          31.998437881469727,
          31.344058990478516,
          30.7591552734375,
          30.21700668334961,
          29.791898727416992,
          29.329837799072266,
          29.06763458251953,
          28.888978958129883,
          28.773578643798828,
          28.678186416625977,
          28.620718002319336,
          28.5969181060791,
          28.52625846862793,
          28.457521438598633,
          28.36136817932129,
          28.32733917236328,
          28.32549476623535,
          28.257322311401367,
          28.228212356567383,
          28.22100067138672,
          28.19325065612793
         ],
         "yaxis": "y"
        },
        {
         "legendgroup": "MAE",
         "line": {
          "color": "black",
          "width": 2
         },
         "mode": "lines",
         "name": "MAE_val",
         "type": "scatter",
         "xaxis": "x",
         "y": [
          383.24072265625,
          286.8332824707031,
          213.7841796875,
          143.95135498046875,
          73.00226593017578,
          47.41101837158203,
          46.36957931518555,
          44.714752197265625,
          44.37834167480469,
          43.487770080566406,
          42.87434768676758,
          42.118167877197266,
          41.52458190917969,
          40.88838577270508,
          40.72867965698242,
          40.57814407348633,
          40.27871322631836,
          40.12998962402344,
          40.0802116394043,
          40.003456115722656,
          39.98538589477539,
          40.028263092041016,
          39.751426696777344,
          39.648170471191406,
          39.6839714050293,
          39.64360809326172,
          39.57126235961914,
          39.5179443359375,
          39.47461700439453,
          39.466712951660156
         ],
         "yaxis": "y"
        },
        {
         "legendgroup": "RMSE",
         "line": {
          "color": "#2d92ff",
          "width": 2
         },
         "mode": "lines",
         "name": "RMSE",
         "type": "scatter",
         "xaxis": "x2",
         "y": [
          988.4063720703125,
          534.5155639648438,
          459.4598083496094,
          388.5924987792969,
          310.291015625,
          250.79217529296875,
          232.22486877441406,
          224.59243774414062,
          220.45994567871094,
          216.74917602539062,
          206.22833251953125,
          208.69235229492188,
          206.26307678222656,
          207.4427947998047,
          199.853271484375,
          205.2355499267578,
          202.893310546875,
          199.3270263671875,
          201.92373657226562,
          199.79800415039062,
          203.23252868652344,
          199.97015380859375,
          202.64236450195312,
          198.6019287109375,
          200.21612548828125,
          197.79991149902344,
          198.25413513183594,
          203.29151916503906,
          198.38465881347656,
          200.7591094970703
         ],
         "yaxis": "y2"
        },
        {
         "legendgroup": "RMSE",
         "line": {
          "color": "black",
          "width": 2
         },
         "mode": "lines",
         "name": "RMSE_val",
         "type": "scatter",
         "xaxis": "x2",
         "y": [
          484.5530700683594,
          392.28070068359375,
          325.2869567871094,
          250.930908203125,
          172.22361755371094,
          139.38710021972656,
          138.68360900878906,
          136.75930786132812,
          136.35218811035156,
          135.68719482421875,
          135.57525634765625,
          135.34701538085938,
          134.44961547851562,
          134.592041015625,
          134.71868896484375,
          134.48388671875,
          134.3909454345703,
          134.51544189453125,
          134.531005859375,
          134.55393981933594,
          134.3334503173828,
          134.28399658203125,
          134.41307067871094,
          134.3975372314453,
          134.27964782714844,
          134.25059509277344,
          134.2676544189453,
          134.2916717529297,
          134.314697265625,
          134.33331298828125
         ],
         "yaxis": "y2"
        },
        {
         "legendgroup": "Loss",
         "line": {
          "color": "#2d92ff",
          "width": 2
         },
         "mode": "lines",
         "name": "Loss",
         "type": "scatter",
         "xaxis": "x3",
         "y": [
          4.382472515106201,
          2.233602523803711,
          1.7038800716400146,
          1.1915501356124878,
          0.6754726767539978,
          0.29173609614372253,
          0.23675812780857086,
          0.22556635737419128,
          0.21727122366428375,
          0.210722878575325,
          0.205535888671875,
          0.20089219510555267,
          0.19680695235729218,
          0.1937200427055359,
          0.19034121930599213,
          0.188737154006958,
          0.18746556341648102,
          0.1865977644920349,
          0.1860414445400238,
          0.1855705976486206,
          0.18517188727855682,
          0.18470220267772675,
          0.1842239946126938,
          0.18368516862392426,
          0.18340294063091278,
          0.18321101367473602,
          0.18286649882793427,
          0.1826782077550888,
          0.1825612187385559,
          0.18246757984161377
         ],
         "yaxis": "y3"
        },
        {
         "legendgroup": "Loss",
         "line": {
          "color": "black",
          "width": 2
         },
         "mode": "lines",
         "name": "Loss_val",
         "type": "scatter",
         "xaxis": "x3",
         "y": [
          3.211451530456543,
          2.368304491043091,
          1.7317216396331787,
          1.1269690990447998,
          0.5283458232879639,
          0.3319872319698334,
          0.32322755455970764,
          0.3125360906124115,
          0.3098379373550415,
          0.30297839641571045,
          0.29768556356430054,
          0.2900988757610321,
          0.2859242558479309,
          0.2818085849285126,
          0.2807087004184723,
          0.27897703647613525,
          0.27678418159484863,
          0.275852769613266,
          0.2755192518234253,
          0.27484580874443054,
          0.2739717662334442,
          0.2736350893974304,
          0.2727121412754059,
          0.2719170153141022,
          0.27158334851264954,
          0.27114999294281006,
          0.2708020806312561,
          0.27058589458465576,
          0.27037569880485535,
          0.27033981680870056
         ],
         "yaxis": "y3"
        },
        {
         "legendgroup": "Loss",
         "line": {
          "color": "black",
          "width": 2
         },
         "mode": "lines",
         "name": "RegLoss",
         "type": "scatter",
         "xaxis": "x3",
         "y": [
          0,
          0,
          0,
          0,
          0,
          0,
          0,
          0,
          0,
          0,
          0,
          0,
          0,
          0,
          0,
          0,
          0,
          0,
          0,
          0,
          0,
          0,
          0,
          0,
          0,
          0,
          0,
          0,
          0,
          0
         ],
         "yaxis": "y3"
        }
       ],
       "layout": {
        "annotations": [
         {
          "font": {
           "size": 16
          },
          "showarrow": false,
          "text": "MAE",
          "x": 0.14444444444444446,
          "xanchor": "center",
          "xref": "paper",
          "y": 1,
          "yanchor": "bottom",
          "yref": "paper"
         },
         {
          "font": {
           "size": 16
          },
          "showarrow": false,
          "text": "RMSE",
          "x": 0.5,
          "xanchor": "center",
          "xref": "paper",
          "y": 1,
          "yanchor": "bottom",
          "yref": "paper"
         },
         {
          "font": {
           "size": 16
          },
          "showarrow": false,
          "text": "Loss",
          "x": 0.8555555555555556,
          "xanchor": "center",
          "xref": "paper",
          "y": 1,
          "yanchor": "bottom",
          "yref": "paper"
         }
        ],
        "autosize": true,
        "font": {
         "size": 10
        },
        "height": 200,
        "margin": {
         "b": 0,
         "l": 0,
         "pad": 0,
         "r": 10,
         "t": 30
        },
        "template": {
         "data": {
          "bar": [
           {
            "error_x": {
             "color": "#2a3f5f"
            },
            "error_y": {
             "color": "#2a3f5f"
            },
            "marker": {
             "line": {
              "color": "white",
              "width": 0.5
             },
             "pattern": {
              "fillmode": "overlay",
              "size": 10,
              "solidity": 0.2
             }
            },
            "type": "bar"
           }
          ],
          "barpolar": [
           {
            "marker": {
             "line": {
              "color": "white",
              "width": 0.5
             },
             "pattern": {
              "fillmode": "overlay",
              "size": 10,
              "solidity": 0.2
             }
            },
            "type": "barpolar"
           }
          ],
          "carpet": [
           {
            "aaxis": {
             "endlinecolor": "#2a3f5f",
             "gridcolor": "#C8D4E3",
             "linecolor": "#C8D4E3",
             "minorgridcolor": "#C8D4E3",
             "startlinecolor": "#2a3f5f"
            },
            "baxis": {
             "endlinecolor": "#2a3f5f",
             "gridcolor": "#C8D4E3",
             "linecolor": "#C8D4E3",
             "minorgridcolor": "#C8D4E3",
             "startlinecolor": "#2a3f5f"
            },
            "type": "carpet"
           }
          ],
          "choropleth": [
           {
            "colorbar": {
             "outlinewidth": 0,
             "ticks": ""
            },
            "type": "choropleth"
           }
          ],
          "contour": [
           {
            "colorbar": {
             "outlinewidth": 0,
             "ticks": ""
            },
            "colorscale": [
             [
              0,
              "#0d0887"
             ],
             [
              0.1111111111111111,
              "#46039f"
             ],
             [
              0.2222222222222222,
              "#7201a8"
             ],
             [
              0.3333333333333333,
              "#9c179e"
             ],
             [
              0.4444444444444444,
              "#bd3786"
             ],
             [
              0.5555555555555556,
              "#d8576b"
             ],
             [
              0.6666666666666666,
              "#ed7953"
             ],
             [
              0.7777777777777778,
              "#fb9f3a"
             ],
             [
              0.8888888888888888,
              "#fdca26"
             ],
             [
              1,
              "#f0f921"
             ]
            ],
            "type": "contour"
           }
          ],
          "contourcarpet": [
           {
            "colorbar": {
             "outlinewidth": 0,
             "ticks": ""
            },
            "type": "contourcarpet"
           }
          ],
          "heatmap": [
           {
            "colorbar": {
             "outlinewidth": 0,
             "ticks": ""
            },
            "colorscale": [
             [
              0,
              "#0d0887"
             ],
             [
              0.1111111111111111,
              "#46039f"
             ],
             [
              0.2222222222222222,
              "#7201a8"
             ],
             [
              0.3333333333333333,
              "#9c179e"
             ],
             [
              0.4444444444444444,
              "#bd3786"
             ],
             [
              0.5555555555555556,
              "#d8576b"
             ],
             [
              0.6666666666666666,
              "#ed7953"
             ],
             [
              0.7777777777777778,
              "#fb9f3a"
             ],
             [
              0.8888888888888888,
              "#fdca26"
             ],
             [
              1,
              "#f0f921"
             ]
            ],
            "type": "heatmap"
           }
          ],
          "heatmapgl": [
           {
            "colorbar": {
             "outlinewidth": 0,
             "ticks": ""
            },
            "colorscale": [
             [
              0,
              "#0d0887"
             ],
             [
              0.1111111111111111,
              "#46039f"
             ],
             [
              0.2222222222222222,
              "#7201a8"
             ],
             [
              0.3333333333333333,
              "#9c179e"
             ],
             [
              0.4444444444444444,
              "#bd3786"
             ],
             [
              0.5555555555555556,
              "#d8576b"
             ],
             [
              0.6666666666666666,
              "#ed7953"
             ],
             [
              0.7777777777777778,
              "#fb9f3a"
             ],
             [
              0.8888888888888888,
              "#fdca26"
             ],
             [
              1,
              "#f0f921"
             ]
            ],
            "type": "heatmapgl"
           }
          ],
          "histogram": [
           {
            "marker": {
             "pattern": {
              "fillmode": "overlay",
              "size": 10,
              "solidity": 0.2
             }
            },
            "type": "histogram"
           }
          ],
          "histogram2d": [
           {
            "colorbar": {
             "outlinewidth": 0,
             "ticks": ""
            },
            "colorscale": [
             [
              0,
              "#0d0887"
             ],
             [
              0.1111111111111111,
              "#46039f"
             ],
             [
              0.2222222222222222,
              "#7201a8"
             ],
             [
              0.3333333333333333,
              "#9c179e"
             ],
             [
              0.4444444444444444,
              "#bd3786"
             ],
             [
              0.5555555555555556,
              "#d8576b"
             ],
             [
              0.6666666666666666,
              "#ed7953"
             ],
             [
              0.7777777777777778,
              "#fb9f3a"
             ],
             [
              0.8888888888888888,
              "#fdca26"
             ],
             [
              1,
              "#f0f921"
             ]
            ],
            "type": "histogram2d"
           }
          ],
          "histogram2dcontour": [
           {
            "colorbar": {
             "outlinewidth": 0,
             "ticks": ""
            },
            "colorscale": [
             [
              0,
              "#0d0887"
             ],
             [
              0.1111111111111111,
              "#46039f"
             ],
             [
              0.2222222222222222,
              "#7201a8"
             ],
             [
              0.3333333333333333,
              "#9c179e"
             ],
             [
              0.4444444444444444,
              "#bd3786"
             ],
             [
              0.5555555555555556,
              "#d8576b"
             ],
             [
              0.6666666666666666,
              "#ed7953"
             ],
             [
              0.7777777777777778,
              "#fb9f3a"
             ],
             [
              0.8888888888888888,
              "#fdca26"
             ],
             [
              1,
              "#f0f921"
             ]
            ],
            "type": "histogram2dcontour"
           }
          ],
          "mesh3d": [
           {
            "colorbar": {
             "outlinewidth": 0,
             "ticks": ""
            },
            "type": "mesh3d"
           }
          ],
          "parcoords": [
           {
            "line": {
             "colorbar": {
              "outlinewidth": 0,
              "ticks": ""
             }
            },
            "type": "parcoords"
           }
          ],
          "pie": [
           {
            "automargin": true,
            "type": "pie"
           }
          ],
          "scatter": [
           {
            "fillpattern": {
             "fillmode": "overlay",
             "size": 10,
             "solidity": 0.2
            },
            "type": "scatter"
           }
          ],
          "scatter3d": [
           {
            "line": {
             "colorbar": {
              "outlinewidth": 0,
              "ticks": ""
             }
            },
            "marker": {
             "colorbar": {
              "outlinewidth": 0,
              "ticks": ""
             }
            },
            "type": "scatter3d"
           }
          ],
          "scattercarpet": [
           {
            "marker": {
             "colorbar": {
              "outlinewidth": 0,
              "ticks": ""
             }
            },
            "type": "scattercarpet"
           }
          ],
          "scattergeo": [
           {
            "marker": {
             "colorbar": {
              "outlinewidth": 0,
              "ticks": ""
             }
            },
            "type": "scattergeo"
           }
          ],
          "scattergl": [
           {
            "marker": {
             "colorbar": {
              "outlinewidth": 0,
              "ticks": ""
             }
            },
            "type": "scattergl"
           }
          ],
          "scattermapbox": [
           {
            "marker": {
             "colorbar": {
              "outlinewidth": 0,
              "ticks": ""
             }
            },
            "type": "scattermapbox"
           }
          ],
          "scatterpolar": [
           {
            "marker": {
             "colorbar": {
              "outlinewidth": 0,
              "ticks": ""
             }
            },
            "type": "scatterpolar"
           }
          ],
          "scatterpolargl": [
           {
            "marker": {
             "colorbar": {
              "outlinewidth": 0,
              "ticks": ""
             }
            },
            "type": "scatterpolargl"
           }
          ],
          "scatterternary": [
           {
            "marker": {
             "colorbar": {
              "outlinewidth": 0,
              "ticks": ""
             }
            },
            "type": "scatterternary"
           }
          ],
          "surface": [
           {
            "colorbar": {
             "outlinewidth": 0,
             "ticks": ""
            },
            "colorscale": [
             [
              0,
              "#0d0887"
             ],
             [
              0.1111111111111111,
              "#46039f"
             ],
             [
              0.2222222222222222,
              "#7201a8"
             ],
             [
              0.3333333333333333,
              "#9c179e"
             ],
             [
              0.4444444444444444,
              "#bd3786"
             ],
             [
              0.5555555555555556,
              "#d8576b"
             ],
             [
              0.6666666666666666,
              "#ed7953"
             ],
             [
              0.7777777777777778,
              "#fb9f3a"
             ],
             [
              0.8888888888888888,
              "#fdca26"
             ],
             [
              1,
              "#f0f921"
             ]
            ],
            "type": "surface"
           }
          ],
          "table": [
           {
            "cells": {
             "fill": {
              "color": "#EBF0F8"
             },
             "line": {
              "color": "white"
             }
            },
            "header": {
             "fill": {
              "color": "#C8D4E3"
             },
             "line": {
              "color": "white"
             }
            },
            "type": "table"
           }
          ]
         },
         "layout": {
          "annotationdefaults": {
           "arrowcolor": "#2a3f5f",
           "arrowhead": 0,
           "arrowwidth": 1
          },
          "autotypenumbers": "strict",
          "coloraxis": {
           "colorbar": {
            "outlinewidth": 0,
            "ticks": ""
           }
          },
          "colorscale": {
           "diverging": [
            [
             0,
             "#8e0152"
            ],
            [
             0.1,
             "#c51b7d"
            ],
            [
             0.2,
             "#de77ae"
            ],
            [
             0.3,
             "#f1b6da"
            ],
            [
             0.4,
             "#fde0ef"
            ],
            [
             0.5,
             "#f7f7f7"
            ],
            [
             0.6,
             "#e6f5d0"
            ],
            [
             0.7,
             "#b8e186"
            ],
            [
             0.8,
             "#7fbc41"
            ],
            [
             0.9,
             "#4d9221"
            ],
            [
             1,
             "#276419"
            ]
           ],
           "sequential": [
            [
             0,
             "#0d0887"
            ],
            [
             0.1111111111111111,
             "#46039f"
            ],
            [
             0.2222222222222222,
             "#7201a8"
            ],
            [
             0.3333333333333333,
             "#9c179e"
            ],
            [
             0.4444444444444444,
             "#bd3786"
            ],
            [
             0.5555555555555556,
             "#d8576b"
            ],
            [
             0.6666666666666666,
             "#ed7953"
            ],
            [
             0.7777777777777778,
             "#fb9f3a"
            ],
            [
             0.8888888888888888,
             "#fdca26"
            ],
            [
             1,
             "#f0f921"
            ]
           ],
           "sequentialminus": [
            [
             0,
             "#0d0887"
            ],
            [
             0.1111111111111111,
             "#46039f"
            ],
            [
             0.2222222222222222,
             "#7201a8"
            ],
            [
             0.3333333333333333,
             "#9c179e"
            ],
            [
             0.4444444444444444,
             "#bd3786"
            ],
            [
             0.5555555555555556,
             "#d8576b"
            ],
            [
             0.6666666666666666,
             "#ed7953"
            ],
            [
             0.7777777777777778,
             "#fb9f3a"
            ],
            [
             0.8888888888888888,
             "#fdca26"
            ],
            [
             1,
             "#f0f921"
            ]
           ]
          },
          "colorway": [
           "#636efa",
           "#EF553B",
           "#00cc96",
           "#ab63fa",
           "#FFA15A",
           "#19d3f3",
           "#FF6692",
           "#B6E880",
           "#FF97FF",
           "#FECB52"
          ],
          "font": {
           "color": "#2a3f5f"
          },
          "geo": {
           "bgcolor": "white",
           "lakecolor": "white",
           "landcolor": "white",
           "showlakes": true,
           "showland": true,
           "subunitcolor": "#C8D4E3"
          },
          "hoverlabel": {
           "align": "left"
          },
          "hovermode": "closest",
          "mapbox": {
           "style": "light"
          },
          "paper_bgcolor": "white",
          "plot_bgcolor": "white",
          "polar": {
           "angularaxis": {
            "gridcolor": "#EBF0F8",
            "linecolor": "#EBF0F8",
            "ticks": ""
           },
           "bgcolor": "white",
           "radialaxis": {
            "gridcolor": "#EBF0F8",
            "linecolor": "#EBF0F8",
            "ticks": ""
           }
          },
          "scene": {
           "xaxis": {
            "backgroundcolor": "white",
            "gridcolor": "#DFE8F3",
            "gridwidth": 2,
            "linecolor": "#EBF0F8",
            "showbackground": true,
            "ticks": "",
            "zerolinecolor": "#EBF0F8"
           },
           "yaxis": {
            "backgroundcolor": "white",
            "gridcolor": "#DFE8F3",
            "gridwidth": 2,
            "linecolor": "#EBF0F8",
            "showbackground": true,
            "ticks": "",
            "zerolinecolor": "#EBF0F8"
           },
           "zaxis": {
            "backgroundcolor": "white",
            "gridcolor": "#DFE8F3",
            "gridwidth": 2,
            "linecolor": "#EBF0F8",
            "showbackground": true,
            "ticks": "",
            "zerolinecolor": "#EBF0F8"
           }
          },
          "shapedefaults": {
           "line": {
            "color": "#2a3f5f"
           }
          },
          "ternary": {
           "aaxis": {
            "gridcolor": "#DFE8F3",
            "linecolor": "#A2B1C6",
            "ticks": ""
           },
           "baxis": {
            "gridcolor": "#DFE8F3",
            "linecolor": "#A2B1C6",
            "ticks": ""
           },
           "bgcolor": "white",
           "caxis": {
            "gridcolor": "#DFE8F3",
            "linecolor": "#A2B1C6",
            "ticks": ""
           }
          },
          "title": {
           "x": 0.05
          },
          "xaxis": {
           "automargin": true,
           "gridcolor": "#EBF0F8",
           "linecolor": "#EBF0F8",
           "ticks": "",
           "title": {
            "standoff": 15
           },
           "zerolinecolor": "#EBF0F8",
           "zerolinewidth": 2
          },
          "yaxis": {
           "automargin": true,
           "gridcolor": "#EBF0F8",
           "linecolor": "#EBF0F8",
           "ticks": "",
           "title": {
            "standoff": 15
           },
           "zerolinecolor": "#EBF0F8",
           "zerolinewidth": 2
          }
         }
        },
        "title": {
         "font": {
          "size": 10
         }
        },
        "width": 1000,
        "xaxis": {
         "anchor": "y",
         "domain": [
          0,
          0.2888888888888889
         ],
         "linewidth": 1.5,
         "mirror": true,
         "showgrid": false,
         "showline": true
        },
        "xaxis2": {
         "anchor": "y2",
         "domain": [
          0.35555555555555557,
          0.6444444444444445
         ],
         "linewidth": 1.5,
         "mirror": true,
         "showgrid": false,
         "showline": true
        },
        "xaxis3": {
         "anchor": "y3",
         "domain": [
          0.7111111111111111,
          1
         ],
         "linewidth": 1.5,
         "mirror": true,
         "showgrid": false,
         "showline": true
        },
        "yaxis": {
         "anchor": "x",
         "domain": [
          0,
          1
         ],
         "linewidth": 1.5,
         "mirror": true,
         "rangemode": "tozero",
         "showgrid": false,
         "showline": true,
         "type": "log"
        },
        "yaxis2": {
         "anchor": "x2",
         "domain": [
          0,
          1
         ],
         "linewidth": 1.5,
         "mirror": true,
         "rangemode": "tozero",
         "showgrid": false,
         "showline": true,
         "type": "log"
        },
        "yaxis3": {
         "anchor": "x3",
         "domain": [
          0,
          1
         ],
         "linewidth": 1.5,
         "mirror": true,
         "rangemode": "tozero",
         "showgrid": false,
         "showline": true,
         "type": "log"
        }
       }
      }
     },
     "metadata": {},
     "output_type": "display_data"
    }
   ],
   "source": [
    "create_metrics_plot(metrics)"
   ]
  },
  {
   "cell_type": "code",
   "execution_count": 9,
   "metadata": {},
   "outputs": [
    {
     "data": {
      "text/plain": [
       "{'MAE_val': 39.466712951660156,\n",
       " 'RMSE_val': 134.33331298828125,\n",
       " 'Loss_val': 0.27033981680870056,\n",
       " 'RegLoss_val': 0.0,\n",
       " 'epoch': 29,\n",
       " 'MAE': 28.19325065612793,\n",
       " 'RMSE': 200.7591094970703,\n",
       " 'Loss': 0.18246757984161377,\n",
       " 'RegLoss': 0.0}"
      ]
     },
     "execution_count": 9,
     "metadata": {},
     "output_type": "execute_result"
    }
   ],
   "source": [
    "metrics.to_dict(\"records\")[-1]"
   ]
  },
  {
   "cell_type": "code",
   "execution_count": 10,
   "metadata": {},
   "outputs": [
    {
     "data": {
      "text/html": [
       "<div>\n",
       "<style scoped>\n",
       "    .dataframe tbody tr th:only-of-type {\n",
       "        vertical-align: middle;\n",
       "    }\n",
       "\n",
       "    .dataframe tbody tr th {\n",
       "        vertical-align: top;\n",
       "    }\n",
       "\n",
       "    .dataframe thead th {\n",
       "        text-align: right;\n",
       "    }\n",
       "</style>\n",
       "<table border=\"1\" class=\"dataframe\">\n",
       "  <thead>\n",
       "    <tr style=\"text-align: right;\">\n",
       "      <th></th>\n",
       "      <th>MAE_val</th>\n",
       "      <th>RMSE_val</th>\n",
       "      <th>Loss_val</th>\n",
       "      <th>RegLoss_val</th>\n",
       "      <th>epoch</th>\n",
       "      <th>MAE</th>\n",
       "      <th>RMSE</th>\n",
       "      <th>Loss</th>\n",
       "      <th>RegLoss</th>\n",
       "    </tr>\n",
       "  </thead>\n",
       "  <tbody>\n",
       "    <tr>\n",
       "      <th>29</th>\n",
       "      <td>39.466713</td>\n",
       "      <td>134.333313</td>\n",
       "      <td>0.27034</td>\n",
       "      <td>0.0</td>\n",
       "      <td>29</td>\n",
       "      <td>28.193251</td>\n",
       "      <td>200.759109</td>\n",
       "      <td>0.182468</td>\n",
       "      <td>0.0</td>\n",
       "    </tr>\n",
       "  </tbody>\n",
       "</table>\n",
       "</div>"
      ],
      "text/plain": [
       "      MAE_val    RMSE_val  Loss_val  RegLoss_val  epoch        MAE  \\\n",
       "29  39.466713  134.333313   0.27034          0.0     29  28.193251   \n",
       "\n",
       "          RMSE      Loss  RegLoss  \n",
       "29  200.759109  0.182468      0.0  "
      ]
     },
     "execution_count": 10,
     "metadata": {},
     "output_type": "execute_result"
    }
   ],
   "source": [
    "metrics.tail(1)"
   ]
  },
  {
   "cell_type": "code",
   "execution_count": 11,
   "metadata": {},
   "outputs": [
    {
     "name": "stderr",
     "output_type": "stream",
     "text": [
      "INFO - (NP.df_utils._infer_frequency) - Major frequency H corresponds to 99.977% of the data.\n",
      "INFO - (NP.df_utils._infer_frequency) - Defined frequency is equal to major frequency - H\n"
     ]
    },
    {
     "name": "stderr",
     "output_type": "stream",
     "text": [
      "INFO - (NP.df_utils._infer_frequency) - Major frequency H corresponds to 99.977% of the data.\n",
      "INFO - (NP.df_utils._infer_frequency) - Defined frequency is equal to major frequency - H\n"
     ]
    },
    {
     "data": {
      "application/vnd.jupyter.widget-view+json": {
       "model_id": "c8ac22ccb4a346dcbb44a106ca164737",
       "version_major": 2,
       "version_minor": 0
      },
      "text/plain": [
       "Predicting: 205it [00:00, ?it/s]"
      ]
     },
     "metadata": {},
     "output_type": "display_data"
    },
    {
     "name": "stderr",
     "output_type": "stream",
     "text": [
      "INFO - (NP.df_utils.return_df_in_original_format) - Returning df with no ID column\n"
     ]
    }
   ],
   "source": [
    "forecast = m.predict(df_test)"
   ]
  },
  {
   "cell_type": "code",
   "execution_count": 12,
   "metadata": {},
   "outputs": [],
   "source": [
    "m = m.highlight_nth_step_ahead_of_each_forecast(12)"
   ]
  },
  {
   "cell_type": "code",
   "execution_count": 13,
   "metadata": {},
   "outputs": [
    {
     "data": {
      "application/vnd.jupyter.widget-view+json": {
       "model_id": "f8b3037ea55f4570a175a90a01f28d20",
       "version_major": 2,
       "version_minor": 0
      },
      "text/plain": [
       "FigureWidgetResampler({\n",
       "    'data': [{'line': {'color': '#2d92ff', 'width': 2},\n",
       "              'mode': 'lines',\n",
       "              'name': '<b style=\"color:sandybrown\">[R]</b> Predicted <i style=\"color:#fc9944\">~9h</i>',\n",
       "              'type': 'scatter',\n",
       "              'uid': 'fd2e3233-5a39-4245-a39e-c8db02a81edf',\n",
       "              'x': array([datetime.datetime(2023, 1, 1, 1, 55),\n",
       "                          datetime.datetime(2023, 1, 1, 5, 55),\n",
       "                          datetime.datetime(2023, 1, 1, 12, 55), ...,\n",
       "                          datetime.datetime(2023, 12, 30, 19, 54),\n",
       "                          datetime.datetime(2023, 12, 31, 1, 54),\n",
       "                          datetime.datetime(2023, 12, 31, 10, 54)], dtype=object),\n",
       "              'y': array([-8.77103 ,  7.75766 , 14.352901, ..., 57.992085, 20.528797, 24.306286],\n",
       "                         dtype=float32)},\n",
       "             {'marker': {'color': 'blue', 'size': 4, 'symbol': 'x'},\n",
       "              'mode': 'markers',\n",
       "              'name': '<b style=\"color:sandybrown\">[R]</b> Predicted <i style=\"color:#fc9944\">~9h</i>',\n",
       "              'type': 'scatter',\n",
       "              'uid': 'eba587ed-bada-4617-b5d9-aa1ceb1348ac',\n",
       "              'x': array([datetime.datetime(2023, 1, 1, 1, 55),\n",
       "                          datetime.datetime(2023, 1, 1, 5, 55),\n",
       "                          datetime.datetime(2023, 1, 1, 12, 55), ...,\n",
       "                          datetime.datetime(2023, 12, 30, 19, 54),\n",
       "                          datetime.datetime(2023, 12, 31, 1, 54),\n",
       "                          datetime.datetime(2023, 12, 31, 10, 54)], dtype=object),\n",
       "              'y': array([-8.77103 ,  7.75766 , 14.352901, ..., 57.992085, 20.528797, 24.306286],\n",
       "                         dtype=float32)},\n",
       "             {'marker': {'color': 'black', 'size': 4},\n",
       "              'mode': 'markers',\n",
       "              'name': '<b style=\"color:sandybrown\">[R]</b> Actual <i style=\"color:#fc9944\">~9h</i>',\n",
       "              'type': 'scatter',\n",
       "              'uid': '2223b155-4af0-44e4-9b02-679a8ff1cdee',\n",
       "              'x': array([datetime.datetime(2022, 12, 28, 14, 55),\n",
       "                          datetime.datetime(2022, 12, 28, 16, 55),\n",
       "                          datetime.datetime(2022, 12, 29, 0, 55), ...,\n",
       "                          datetime.datetime(2023, 12, 31, 6, 54),\n",
       "                          datetime.datetime(2023, 12, 31, 16, 54),\n",
       "                          datetime.datetime(2023, 12, 31, 22, 54)], dtype=object),\n",
       "              'y': array([  0.04,  28.37, -10.2 , ...,  22.36,  27.01,  12.56])}],\n",
       "    'layout': {'autosize': True,\n",
       "               'font': {'size': 10},\n",
       "               'height': 420,\n",
       "               'hovermode': 'x unified',\n",
       "               'margin': {'b': 0, 'l': 0, 'pad': 0, 'r': 10, 't': 10},\n",
       "               'showlegend': True,\n",
       "               'template': '...',\n",
       "               'title': {'font': {'size': 12}},\n",
       "               'width': 700,\n",
       "               'xaxis': {'linewidth': 1.5,\n",
       "                         'mirror': True,\n",
       "                         'rangeselector': {'buttons': [{'count': 7, 'label': '1w', 'step': 'day', 'stepmode': 'backward'},\n",
       "                                                       {'count': 1,\n",
       "                                                        'label': '1m',\n",
       "                                                        'step': 'month',\n",
       "                                                        'stepmode': 'backward'},\n",
       "                                                       {'count': 6,\n",
       "                                                        'label': '6m',\n",
       "                                                        'step': 'month',\n",
       "                                                        'stepmode': 'backward'},\n",
       "                                                       {'count': 1, 'label': '1y', 'step': 'year', 'stepmode': 'backward'},\n",
       "                                                       {'step': 'all'}]},\n",
       "                         'rangeslider': {'visible': True},\n",
       "                         'showline': True,\n",
       "                         'title': {'text': 'ds'},\n",
       "                         'type': 'date'},\n",
       "               'yaxis': {'linewidth': 1.5, 'mirror': True, 'showline': True, 'title': {'text': 'y'}}}\n",
       "})"
      ]
     },
     "execution_count": 13,
     "metadata": {},
     "output_type": "execute_result"
    }
   ],
   "source": [
    "m.plot(forecast)"
   ]
  },
  {
   "cell_type": "code",
   "execution_count": null,
   "metadata": {},
   "outputs": [],
   "source": []
  },
  {
   "cell_type": "code",
   "execution_count": 14,
   "metadata": {},
   "outputs": [
    {
     "data": {
      "application/vnd.jupyter.widget-view+json": {
       "model_id": "acb90b4924a744eba39b3a22d71499c3",
       "version_major": 2,
       "version_minor": 0
      },
      "text/plain": [
       "FigureWidgetResampler({\n",
       "    'data': [{'line': {'color': '#2d92ff', 'width': 2},\n",
       "              'mode': 'lines',\n",
       "              'name': '<b style=\"color:sandybrown\">[R]</b> Trend <i style=\"color:#fc9944\">~9h</i>',\n",
       "              'showlegend': False,\n",
       "              'type': 'scatter',\n",
       "              'uid': '03b92faa-4fbd-4f3d-a07d-f9e79b0115fa',\n",
       "              'x': array([datetime.datetime(2022, 12, 31, 14, 55),\n",
       "                          datetime.datetime(2022, 12, 31, 15, 55),\n",
       "                          datetime.datetime(2023, 1, 1, 2, 55), ...,\n",
       "                          datetime.datetime(2023, 12, 31, 5, 54),\n",
       "                          datetime.datetime(2023, 12, 31, 17, 54),\n",
       "                          datetime.datetime(2023, 12, 31, 22, 54)], dtype=object),\n",
       "              'xaxis': 'x',\n",
       "              'y': array([-209.4214 , -209.42241, -209.43364, ..., -218.34476, -218.357  ,\n",
       "                          -218.3621 ], dtype=float32),\n",
       "              'yaxis': 'y'},\n",
       "             {'line': {'color': '#2d92ff', 'width': 2},\n",
       "              'mode': 'lines',\n",
       "              'name': ('<b style=\"color:sandybrown\">[R' ... ' style=\"color:#fc9944\">~9h</i>'),\n",
       "              'showlegend': False,\n",
       "              'type': 'scatter',\n",
       "              'uid': '3a96c3b3-519f-479c-8ea8-d9ee778e3816',\n",
       "              'x': array([datetime.datetime(2022, 12, 31, 14, 55),\n",
       "                          datetime.datetime(2022, 12, 31, 17, 55),\n",
       "                          datetime.datetime(2023, 1, 1, 3, 55), ...,\n",
       "                          datetime.datetime(2023, 12, 31, 12, 54),\n",
       "                          datetime.datetime(2023, 12, 31, 19, 54),\n",
       "                          datetime.datetime(2023, 12, 31, 22, 54)], dtype=object),\n",
       "              'xaxis': 'x2',\n",
       "              'y': array([-101.39131 , -100.967896,  -99.5191  , ..., -102.53938 , -101.533394,\n",
       "                          -101.11513 ], dtype=float32),\n",
       "              'yaxis': 'y2'},\n",
       "             {'line': {'color': '#2d92ff', 'width': 2},\n",
       "              'mode': 'lines',\n",
       "              'name': ('<b style=\"color:sandybrown\">[R' ... ' style=\"color:#fc9944\">~9h</i>'),\n",
       "              'showlegend': False,\n",
       "              'type': 'scatter',\n",
       "              'uid': '1ae434cd-222d-4530-901d-f0c08bd50768',\n",
       "              'x': array([datetime.datetime(2022, 12, 31, 14, 55),\n",
       "                          datetime.datetime(2022, 12, 31, 21, 55),\n",
       "                          datetime.datetime(2023, 1, 1, 7, 55), ...,\n",
       "                          datetime.datetime(2023, 12, 31, 10, 54),\n",
       "                          datetime.datetime(2023, 12, 31, 15, 54),\n",
       "                          datetime.datetime(2023, 12, 31, 22, 54)], dtype=object),\n",
       "              'xaxis': 'x3',\n",
       "              'y': array([-1.2428094 , -1.3495435 , -2.7668617 , ..., -2.9779608 , -2.3965855 ,\n",
       "                           0.07389047], dtype=float32),\n",
       "              'yaxis': 'y3'},\n",
       "             {'line': {'color': '#2d92ff', 'width': 2},\n",
       "              'mode': 'lines',\n",
       "              'name': ('<b style=\"color:sandybrown\">[R' ... ' style=\"color:#fc9944\">~9h</i>'),\n",
       "              'showlegend': False,\n",
       "              'type': 'scatter',\n",
       "              'uid': 'ec432a64-d014-4cd7-93c7-72d657368251',\n",
       "              'x': array([datetime.datetime(2022, 12, 31, 14, 55),\n",
       "                          datetime.datetime(2022, 12, 31, 22, 55),\n",
       "                          datetime.datetime(2023, 1, 1, 2, 55), ...,\n",
       "                          datetime.datetime(2023, 12, 31, 12, 54),\n",
       "                          datetime.datetime(2023, 12, 31, 17, 54),\n",
       "                          datetime.datetime(2023, 12, 31, 22, 54)], dtype=object),\n",
       "              'xaxis': 'x4',\n",
       "              'y': array([ 8.383556 , -5.3123565, -8.733942 , ...,  7.4248753,  7.1478066,\n",
       "                          -5.25239  ], dtype=float32),\n",
       "              'yaxis': 'y4'},\n",
       "             {'line': {'color': '#2d92ff', 'width': 2},\n",
       "              'mode': 'lines',\n",
       "              'name': ('<b style=\"color:sandybrown\">[R' ... ' style=\"color:#fc9944\">~9h</i>'),\n",
       "              'showlegend': False,\n",
       "              'type': 'scatter',\n",
       "              'uid': '10ede60b-9119-47bd-8f34-fa4a5342bfd8',\n",
       "              'x': array([datetime.datetime(2023, 1, 1, 1, 55),\n",
       "                          datetime.datetime(2023, 1, 1, 5, 55),\n",
       "                          datetime.datetime(2023, 1, 1, 16, 55), ...,\n",
       "                          datetime.datetime(2023, 12, 30, 19, 54),\n",
       "                          datetime.datetime(2023, 12, 31, 1, 54),\n",
       "                          datetime.datetime(2023, 12, 31, 10, 54)], dtype=object),\n",
       "              'xaxis': 'x5',\n",
       "              'y': array([311.57974, 321.2538 , 311.87674, ..., 381.3334 , 354.07614, 344.52945],\n",
       "                         dtype=float32),\n",
       "              'yaxis': 'y5'},\n",
       "             {'line': {'color': '#2d92ff', 'width': 2},\n",
       "              'mode': 'lines',\n",
       "              'name': ('<b style=\"color:sandybrown\">[R' ... ' style=\"color:#fc9944\">~9h</i>'),\n",
       "              'showlegend': False,\n",
       "              'type': 'scatter',\n",
       "              'uid': '252ac0a7-5a42-4c66-8e1b-d0230a0b81e7',\n",
       "              'x': array([datetime.datetime(2022, 12, 31, 14, 55),\n",
       "                          datetime.datetime(2022, 12, 31, 15, 55),\n",
       "                          datetime.datetime(2022, 12, 31, 23, 55), ...,\n",
       "                          datetime.datetime(2023, 12, 31, 4, 54),\n",
       "                          datetime.datetime(2023, 12, 31, 13, 54),\n",
       "                          datetime.datetime(2023, 12, 31, 22, 54)], dtype=object),\n",
       "              'xaxis': 'x6',\n",
       "              'y': array([0., 0., 0., ..., 0., 0., 0.], dtype=float32),\n",
       "              'yaxis': 'y6'}],\n",
       "    'layout': {'autosize': True,\n",
       "               'font': {'size': 10},\n",
       "               'height': 1260,\n",
       "               'hovermode': 'x unified',\n",
       "               'legend': {'traceorder': 'reversed', 'y': 0.1},\n",
       "               'margin': {'b': 0, 'l': 0, 'pad': 0, 'r': 10, 't': 10},\n",
       "               'template': '...',\n",
       "               'title': {'font': {'size': 12}},\n",
       "               'width': 700,\n",
       "               'xaxis': {'anchor': 'y',\n",
       "                         'domain': [0.0, 1.0],\n",
       "                         'linewidth': 1.5,\n",
       "                         'mirror': True,\n",
       "                         'range': [2022-12-13 08:55:00, 2024-01-19 04:54:00],\n",
       "                         'showline': True,\n",
       "                         'title': {'text': 'ds'},\n",
       "                         'type': 'date'},\n",
       "               'xaxis2': {'anchor': 'y2',\n",
       "                          'domain': [0.0, 1.0],\n",
       "                          'linewidth': 1.5,\n",
       "                          'mirror': True,\n",
       "                          'range': [2022-12-13 08:55:00, 2024-01-19 04:54:00],\n",
       "                          'showline': True,\n",
       "                          'title': {'text': 'ds'},\n",
       "                          'type': 'date'},\n",
       "               'xaxis3': {'anchor': 'y3',\n",
       "                          'domain': [0.0, 1.0],\n",
       "                          'linewidth': 1.5,\n",
       "                          'mirror': True,\n",
       "                          'range': [2022-12-13 08:55:00, 2024-01-19 04:54:00],\n",
       "                          'showline': True,\n",
       "                          'title': {'text': 'ds'},\n",
       "                          'type': 'date'},\n",
       "               'xaxis4': {'anchor': 'y4',\n",
       "                          'domain': [0.0, 1.0],\n",
       "                          'linewidth': 1.5,\n",
       "                          'mirror': True,\n",
       "                          'range': [2022-12-13 08:55:00, 2024-01-19 04:54:00],\n",
       "                          'showline': True,\n",
       "                          'title': {'text': 'ds'},\n",
       "                          'type': 'date'},\n",
       "               'xaxis5': {'anchor': 'y5',\n",
       "                          'domain': [0.0, 1.0],\n",
       "                          'linewidth': 1.5,\n",
       "                          'mirror': True,\n",
       "                          'range': [2022-12-13 20:55:00, 2024-01-18 15:54:00],\n",
       "                          'showline': True,\n",
       "                          'title': {'text': 'ds'},\n",
       "                          'type': 'date'},\n",
       "               'xaxis6': {'anchor': 'y6',\n",
       "                          'domain': [0.0, 1.0],\n",
       "                          'linewidth': 1.5,\n",
       "                          'mirror': True,\n",
       "                          'range': [2022-12-13 08:55:00, 2024-01-19 04:54:00],\n",
       "                          'showline': True,\n",
       "                          'title': {'text': 'ds'},\n",
       "                          'type': 'date'},\n",
       "               'yaxis': {'anchor': 'x',\n",
       "                         'domain': [0.875, 1.0],\n",
       "                         'linewidth': 1.5,\n",
       "                         'mirror': True,\n",
       "                         'rangemode': 'normal',\n",
       "                         'showline': True,\n",
       "                         'title': {'text': 'Trend'}},\n",
       "               'yaxis2': {'anchor': 'x2',\n",
       "                          'domain': [0.7, 0.825],\n",
       "                          'linewidth': 1.5,\n",
       "                          'mirror': True,\n",
       "                          'rangemode': 'tozero',\n",
       "                          'showline': True,\n",
       "                          'title': {'text': 'yearly seasonality'}},\n",
       "               'yaxis3': {'anchor': 'x3',\n",
       "                          'domain': [0.525, 0.65],\n",
       "                          'linewidth': 1.5,\n",
       "                          'mirror': True,\n",
       "                          'rangemode': 'tozero',\n",
       "                          'showline': True,\n",
       "                          'title': {'text': 'weekly seasonality'}},\n",
       "               'yaxis4': {'anchor': 'x4',\n",
       "                          'domain': [0.35, 0.475],\n",
       "                          'linewidth': 1.5,\n",
       "                          'mirror': True,\n",
       "                          'rangemode': 'tozero',\n",
       "                          'showline': True,\n",
       "                          'title': {'text': 'daily seasonality'}},\n",
       "               'yaxis5': {'anchor': 'x5',\n",
       "                          'domain': [0.175, 0.3],\n",
       "                          'linewidth': 1.5,\n",
       "                          'mirror': True,\n",
       "                          'rangemode': 'tozero',\n",
       "                          'showline': True,\n",
       "                          'title': {'text': 'AR (12)-ahead'}},\n",
       "               'yaxis6': {'anchor': 'x6',\n",
       "                          'domain': [0.0, 0.125],\n",
       "                          'linewidth': 1.5,\n",
       "                          'mirror': True,\n",
       "                          'rangemode': 'tozero',\n",
       "                          'showline': True,\n",
       "                          'title': {'text': 'Additive Events'}}}\n",
       "})"
      ]
     },
     "execution_count": 14,
     "metadata": {},
     "output_type": "execute_result"
    }
   ],
   "source": [
    "m.plot_components(forecast)"
   ]
  },
  {
   "cell_type": "code",
   "execution_count": 15,
   "metadata": {},
   "outputs": [
    {
     "data": {
      "application/vnd.jupyter.widget-view+json": {
       "model_id": "495d8a435adc44db9de1e53cfa70c2d0",
       "version_major": 2,
       "version_minor": 0
      },
      "text/plain": [
       "FigureWidgetResampler({\n",
       "    'data': [{'fill': 'none',\n",
       "              'line': {'color': '#2d92ff', 'width': 2},\n",
       "              'mode': 'lines',\n",
       "              'name': '<b style=\"color:sandybrown\">[R]</b> Trend <i style=\"color:#fc9944\">~2D</i>',\n",
       "              'type': 'scatter',\n",
       "              'uid': 'f15d72b7-25d8-42fb-bfa7-90b0fe5cb733',\n",
       "              'x': array([datetime.datetime(2017, 1, 1, 0, 0),\n",
       "                          datetime.datetime(2017, 1, 3, 1, 0),\n",
       "                          datetime.datetime(2017, 1, 5, 7, 0), ...,\n",
       "                          datetime.datetime(2022, 12, 29, 4, 0),\n",
       "                          datetime.datetime(2022, 12, 29, 16, 0),\n",
       "                          datetime.datetime(2022, 12, 31, 13, 0)], dtype=object),\n",
       "              'xaxis': 'x',\n",
       "              'y': array([-106.0639204 , -106.29321996, -106.54591744, ..., -209.36131134,\n",
       "                          -209.37354772, -209.41943417]),\n",
       "              'yaxis': 'y'},\n",
       "             {'marker': {'color': '#2d92ff'},\n",
       "              'name': 'Trend Rate Change',\n",
       "              'type': 'bar',\n",
       "              'uid': '78cf08d4-8486-44a7-a72d-1da4a41aaaee',\n",
       "              'x': array([Timestamp('2017-01-01 00:00:00'),\n",
       "                          Timestamp('2017-11-01 05:55:58.333333'),\n",
       "                          Timestamp('2018-09-01 11:51:56.666667'),\n",
       "                          Timestamp('2019-07-02 17:47:55'),\n",
       "                          Timestamp('2020-05-01 23:43:53.333333'),\n",
       "                          Timestamp('2021-03-02 05:39:51.666667'),\n",
       "                          Timestamp('2022-12-31 13:55:00')], dtype=object),\n",
       "              'xaxis': 'x2',\n",
       "              'y': array([-0.38710797,  1.57560587,  0.03075209, -0.75989783,  0.41951075,\n",
       "                           0.42094275,  0.        ]),\n",
       "              'yaxis': 'y2'},\n",
       "             {'fill': 'none',\n",
       "              'line': {'color': '#2d92ff', 'width': 2},\n",
       "              'mode': 'lines',\n",
       "              'name': 'yearly',\n",
       "              'type': 'scatter',\n",
       "              'uid': '725675b5-11da-4f1b-8bc4-19198fcc942b',\n",
       "              'x': array([datetime.datetime(2017, 1, 1, 0, 0),\n",
       "                          datetime.datetime(2017, 1, 2, 0, 0),\n",
       "                          datetime.datetime(2017, 1, 3, 0, 0), ...,\n",
       "                          datetime.datetime(2017, 12, 29, 0, 0),\n",
       "                          datetime.datetime(2017, 12, 30, 0, 0),\n",
       "                          datetime.datetime(2017, 12, 31, 0, 0)], dtype=object),\n",
       "              'xaxis': 'x3',\n",
       "              'y': array([ -98.32788 ,  -94.72359 ,  -91.01255 , ..., -109.16773 , -105.986145,\n",
       "                          -102.66435 ], dtype=float32),\n",
       "              'yaxis': 'y3'},\n",
       "             {'fill': 'none',\n",
       "              'line': {'color': '#2d92ff', 'width': 2},\n",
       "              'mode': 'lines',\n",
       "              'name': 'weekly',\n",
       "              'type': 'scatter',\n",
       "              'uid': '51556d6e-4518-48c8-967d-c0df91912717',\n",
       "              'x': array([  0,   1,   2,   3,   4,   5,   6,   7,   8,   9,  10,  11,  12,  13,\n",
       "                           14,  15,  16,  17,  18,  19,  20,  21,  22,  23,  24,  25,  26,  27,\n",
       "                           28,  29,  30,  31,  32,  33,  34,  35,  36,  37,  38,  39,  40,  41,\n",
       "                           42,  43,  44,  45,  46,  47,  48,  49,  50,  51,  52,  53,  54,  55,\n",
       "                           56,  57,  58,  59,  60,  61,  62,  63,  64,  65,  66,  67,  68,  69,\n",
       "                           70,  71,  72,  73,  74,  75,  76,  77,  78,  79,  80,  81,  82,  83,\n",
       "                           84,  85,  86,  87,  88,  89,  90,  91,  92,  93,  94,  95,  96,  97,\n",
       "                           98,  99, 100, 101, 102, 103, 104, 105, 106, 107, 108, 109, 110, 111,\n",
       "                          112, 113, 114, 115, 116, 117, 118, 119, 120, 121, 122, 123, 124, 125,\n",
       "                          126, 127, 128, 129, 130, 131, 132, 133, 134, 135, 136, 137, 138, 139,\n",
       "                          140, 141, 142, 143, 144, 145, 146, 147, 148, 149, 150, 151, 152, 153,\n",
       "                          154, 155, 156, 157, 158, 159, 160, 161, 162, 163, 164, 165, 166, 167]),\n",
       "              'xaxis': 'x4',\n",
       "              'y': array([-1.5493393e+00, -1.6754245e+00, -1.8164866e+00, -1.9823271e+00,\n",
       "                          -2.1560953e+00, -2.3225718e+00, -2.4858859e+00, -2.6364114e+00,\n",
       "                          -2.7744787e+00, -2.8773255e+00, -2.9450500e+00, -2.9722009e+00,\n",
       "                          -2.9558613e+00, -2.8841517e+00, -2.7637508e+00, -2.5919125e+00,\n",
       "                          -2.3687382e+00, -2.0882714e+00, -1.7807708e+00, -1.4362267e+00,\n",
       "                          -1.0477948e+00, -6.6847676e-01, -2.6072147e-01,  1.2259784e-01,\n",
       "                           4.8989937e-01,  8.3063173e-01,  1.1337426e+00,  1.4139849e+00,\n",
       "                           1.6323985e+00,  1.7978392e+00,  1.9039369e+00,  1.9558374e+00,\n",
       "                           1.9554290e+00,  1.9059582e+00,  1.8143431e+00,  1.6885805e+00,\n",
       "                           1.5323884e+00,  1.3531227e+00,  1.1753290e+00,  1.0035092e+00,\n",
       "                           8.4416336e-01,  7.0191473e-01,  5.8880395e-01,  5.1228607e-01,\n",
       "                           4.7138989e-01,  4.7173929e-01,  5.1230967e-01,  5.9219635e-01,\n",
       "                           7.0358878e-01,  8.4335828e-01,  1.0005982e+00,  1.1830266e+00,\n",
       "                           1.3747430e+00,  1.5533987e+00,  1.7215990e+00,  1.8690875e+00,\n",
       "                           1.9988477e+00,  2.0948353e+00,  2.1570652e+00,  2.1799788e+00,\n",
       "                           2.1743178e+00,  2.1248753e+00,  2.0440443e+00,  1.9396514e+00,\n",
       "                           1.8116593e+00,  1.6678498e+00,  1.5128138e+00,  1.3624631e+00,\n",
       "                           1.2080888e+00,  1.0778089e+00,  9.5445824e-01,  8.6247009e-01,\n",
       "                           8.0029631e-01,  7.5995952e-01,  7.5336832e-01,  7.6403797e-01,\n",
       "                           8.0633855e-01,  8.6972511e-01,  9.4172841e-01,  1.0302749e+00,\n",
       "                           1.1114582e+00,  1.1959913e+00,  1.2621394e+00,  1.3219483e+00,\n",
       "                           1.3547595e+00,  1.3579046e+00,  1.3344872e+00,  1.2802738e+00,\n",
       "                           1.2017328e+00,  1.0865037e+00,  9.5697141e-01,  8.0348748e-01,\n",
       "                           6.4084512e-01,  4.5931315e-01,  2.7566668e-01,  1.1532280e-01,\n",
       "                          -4.2421773e-02, -1.7621294e-01, -2.9105037e-01, -3.7933812e-01,\n",
       "                          -4.3133050e-01, -4.5151627e-01, -4.4229943e-01, -3.9741367e-01,\n",
       "                          -3.2349700e-01, -2.3270886e-01, -1.2109949e-01, -2.7403978e-03,\n",
       "                           1.3082124e-01,  2.6234394e-01,  3.7479711e-01,  4.7728160e-01,\n",
       "                           5.5760401e-01,  6.1547798e-01,  6.4451832e-01,  6.4278519e-01,\n",
       "                           6.0931808e-01,  5.5100936e-01,  4.5622692e-01,  3.4679660e-01,\n",
       "                           2.1599156e-01,  7.6210760e-02, -7.8182243e-02, -2.4309531e-01,\n",
       "                          -3.9191973e-01, -5.3620189e-01, -6.6113859e-01, -7.7082330e-01,\n",
       "                          -8.6244941e-01, -9.2748785e-01, -9.6771288e-01, -9.8667675e-01,\n",
       "                          -9.8069936e-01, -9.5386440e-01, -9.1892195e-01, -8.7194014e-01,\n",
       "                          -8.1734800e-01, -7.5600284e-01, -6.9750202e-01, -6.5274417e-01,\n",
       "                          -6.1799186e-01, -5.9338248e-01, -5.8450735e-01, -5.9282929e-01,\n",
       "                          -6.1653429e-01, -6.5357709e-01, -7.0335472e-01, -7.6758432e-01,\n",
       "                          -8.3935112e-01, -9.1007268e-01, -9.7839427e-01, -1.0454140e+00,\n",
       "                          -1.1091139e+00, -1.1576078e+00, -1.2007538e+00, -1.2253230e+00,\n",
       "                          -1.2457103e+00, -1.2509227e+00, -1.2485030e+00, -1.2389535e+00,\n",
       "                          -1.2324115e+00, -1.2249169e+00, -1.2219640e+00, -1.2311949e+00,\n",
       "                          -1.2527883e+00, -1.2996701e+00, -1.3650043e+00, -1.4461969e+00],\n",
       "                         dtype=float32),\n",
       "              'yaxis': 'y4'},\n",
       "             {'fill': 'none',\n",
       "              'line': {'color': '#2d92ff', 'width': 2},\n",
       "              'mode': 'lines',\n",
       "              'name': 'daily',\n",
       "              'type': 'scatter',\n",
       "              'uid': 'e1cce0e0-d6e4-4c5d-841c-9fb520ce1b21',\n",
       "              'x': array([  0,   1,   2, ..., 285, 286, 287]),\n",
       "              'xaxis': 'x5',\n",
       "              'y': array([-7.226409 , -7.407596 , -7.5765324, ..., -6.784375 , -6.8858657,\n",
       "                          -7.0464225], dtype=float32),\n",
       "              'yaxis': 'y5'},\n",
       "             {'marker': {'color': '#2d92ff'},\n",
       "              'name': 'AR',\n",
       "              'type': 'bar',\n",
       "              'uid': '8c655908-fe62-4e26-99f3-253012d594f0',\n",
       "              'width': 0.8,\n",
       "              'x': array([72, 71, 70, 69, 68, 67, 66, 65, 64, 63, 62, 61, 60, 59, 58, 57, 56, 55,\n",
       "                          54, 53, 52, 51, 50, 49, 48, 47, 46, 45, 44, 43, 42, 41, 40, 39, 38, 37,\n",
       "                          36, 35, 34, 33, 32, 31, 30, 29, 28, 27, 26, 25, 24, 23, 22, 21, 20, 19,\n",
       "                          18, 17, 16, 15, 14, 13, 12, 11, 10,  9,  8,  7,  6,  5,  4,  3,  2,  1]),\n",
       "              'xaxis': 'x6',\n",
       "              'y': array([ 0.01422828, -0.00532324, -0.00680231, -0.00957505,  0.00982718,\n",
       "                          -0.01525677,  0.00276065, -0.00708762, -0.00602851,  0.00204091,\n",
       "                          -0.01472416, -0.01795198, -0.00227067,  0.03919067, -0.00934418,\n",
       "                          -0.03881851,  0.02908721,  0.01814557,  0.00367552, -0.04258252,\n",
       "                           0.00646785,  0.00054417, -0.00599367, -0.01828294,  0.01773955,\n",
       "                           0.00338981,  0.00130997,  0.01757603,  0.00555363, -0.02522937,\n",
       "                           0.00423039, -0.00883632,  0.01771006,  0.01410564,  0.0281124 ,\n",
       "                          -0.00014311,  0.04439928, -0.01510515,  0.01735569, -0.00468938,\n",
       "                           0.01334572,  0.04064503, -0.00268197, -0.00910961,  0.02088527,\n",
       "                           0.00396502, -0.02666387,  0.00780999,  0.0134628 , -0.01416718,\n",
       "                           0.01001841,  0.02833713,  0.04268594,  0.01848199,  0.01227673,\n",
       "                           0.0574002 ,  0.04616169,  0.03227534,  0.01022142,  0.02730943,\n",
       "                           0.02299066,  0.03029027, -0.01536641,  0.08121649,  0.07047193,\n",
       "                           0.0512723 ,  0.0705675 ,  0.04641472,  0.06306715,  0.08538556,\n",
       "                           0.08003063,  0.04826976], dtype=float32),\n",
       "              'yaxis': 'y6'},\n",
       "             {'marker': {'color': '#2d92ff'},\n",
       "              'name': 'Additive event',\n",
       "              'type': 'bar',\n",
       "              'uid': '5df8b39f-9579-43f5-be91-97ee60638f9a',\n",
       "              'width': 0.8,\n",
       "              'x': array(['Martin Luther King Jr. Day_+1', 'Independence Day_+1',\n",
       "                          'Memorial Day_+1', \"New Year's Day (Observed)_+1\", 'Labor Day_+1',\n",
       "                          'Columbus Day_+1', 'Christmas Day_+1', 'Independence Day (Observed)_+1',\n",
       "                          'Christmas Day (Observed)_+1',\n",
       "                          'Juneteenth National Independence Day (Observed)_+1',\n",
       "                          'Juneteenth National Independence Day_+1', \"New Year's Day_+1\",\n",
       "                          'Thanksgiving_+1', \"Washington's Birthday_+1\", 'Veterans Day_+1',\n",
       "                          'Veterans Day (Observed)_+1'], dtype=object),\n",
       "              'xaxis': 'x7',\n",
       "              'y': [-7.558481216430664, 35.15451431274414, 46.73725891113281,\n",
       "                    64.85684967041016, -62.40401840209961, -66.26194763183594,\n",
       "                    20.699752807617188, 41.4548225402832, 30.19015121459961,\n",
       "                    -96.13819122314453, -49.95526885986328, -67.49156951904297,\n",
       "                    -50.052547454833984, 45.20783233642578, -21.67926788330078,\n",
       "                    19.45623016357422],\n",
       "              'yaxis': 'y7'}],\n",
       "    'layout': {'autosize': True,\n",
       "               'font': {'size': 10},\n",
       "               'height': 1470,\n",
       "               'hovermode': 'x unified',\n",
       "               'margin': {'b': 0, 'l': 0, 'pad': 0, 'r': 10, 't': 10},\n",
       "               'showlegend': False,\n",
       "               'template': '...',\n",
       "               'title': {'font': {'size': 12}},\n",
       "               'width': 700,\n",
       "               'xaxis': {'anchor': 'y',\n",
       "                         'domain': [0.0, 1.0],\n",
       "                         'linewidth': 1.5,\n",
       "                         'mirror': True,\n",
       "                         'range': [2016-09-13 11:00:00, 2023-04-20 02:00:00],\n",
       "                         'showline': True,\n",
       "                         'title': {'text': 'ds'},\n",
       "                         'type': 'date'},\n",
       "               'xaxis2': {'anchor': 'y2',\n",
       "                          'domain': [0.0, 1.0],\n",
       "                          'linewidth': 1.5,\n",
       "                          'mirror': True,\n",
       "                          'range': [2017-01-01 00:00:00, 2022-12-31 13:55:00],\n",
       "                          'showline': True,\n",
       "                          'title': {'text': 'Trend segment'},\n",
       "                          'type': 'date'},\n",
       "               'xaxis3': {'anchor': 'y3',\n",
       "                          'domain': [0.0, 1.0],\n",
       "                          'linewidth': 1.5,\n",
       "                          'mirror': True,\n",
       "                          'range': [2016-12-14 00:00:00, 2018-01-18 00:00:00],\n",
       "                          'showline': True,\n",
       "                          'tickformat': '%B %e',\n",
       "                          'title': {'text': 'Day of year'}},\n",
       "               'xaxis4': {'anchor': 'y4',\n",
       "                          'domain': [0.0, 1.0],\n",
       "                          'linewidth': 1.5,\n",
       "                          'mirror': True,\n",
       "                          'range': [-8, 175],\n",
       "                          'showline': True,\n",
       "                          'tickmode': 'array',\n",
       "                          'ticktext': [Sunday, Monday, Tuesday, Wednesday,\n",
       "                                       Thursday, Friday, Saturday, Sunday, Sunday],\n",
       "                          'tickvals': [0, 24, 48, 72, 96, 120, 144, 168, 192],\n",
       "                          'title': {'text': 'Day of week'}},\n",
       "               'xaxis5': {'anchor': 'y5',\n",
       "                          'domain': [0.0, 1.0],\n",
       "                          'linewidth': 1.5,\n",
       "                          'mirror': True,\n",
       "                          'range': [-14, 301],\n",
       "                          'showline': True,\n",
       "                          'tickmode': 'array',\n",
       "                          'ticktext': [0, 1, 2, 3, 4, 5, 6, 7, 8, 9, 10, 11, 12,\n",
       "                                       13, 14, 15, 16, 17, 18, 19, 20, 21, 22, 23,\n",
       "                                       24],\n",
       "                          'tickvals': [0, 12, 24, 36, 48, 60, 72, 84, 96, 108,\n",
       "                                       120, 132, 144, 156, 168, 180, 192, 204, 216,\n",
       "                                       228, 240, 252, 264, 276, 288],\n",
       "                          'title': {'text': 'Hour of day'}},\n",
       "               'xaxis6': {'anchor': 'y6',\n",
       "                          'domain': [0.0, 1.0],\n",
       "                          'linewidth': 1.5,\n",
       "                          'mirror': True,\n",
       "                          'range': [-4, 77],\n",
       "                          'showline': True,\n",
       "                          'title': {'text': 'AR lag number'}},\n",
       "               'xaxis7': {'anchor': 'y7',\n",
       "                          'domain': [0.0, 1.0],\n",
       "                          'linewidth': 1.5,\n",
       "                          'mirror': True,\n",
       "                          'showline': True,\n",
       "                          'title': {'text': 'Additive event name'}},\n",
       "               'yaxis': {'anchor': 'x',\n",
       "                         'domain': [0.8938775510204082, 1.0],\n",
       "                         'linewidth': 1.5,\n",
       "                         'mirror': True,\n",
       "                         'rangemode': 'normal',\n",
       "                         'showline': True,\n",
       "                         'title': {'text': 'Trend'}},\n",
       "               'yaxis2': {'anchor': 'x2',\n",
       "                          'domain': [0.7448979591836735, 0.8510204081632654],\n",
       "                          'linewidth': 1.5,\n",
       "                          'mirror': True,\n",
       "                          'rangemode': 'normal',\n",
       "                          'showline': True,\n",
       "                          'title': {'text': 'Trend Rate Change'}},\n",
       "               'yaxis3': {'anchor': 'x3',\n",
       "                          'domain': [0.5959183673469388, 0.7020408163265307],\n",
       "                          'linewidth': 1.5,\n",
       "                          'mirror': True,\n",
       "                          'rangemode': 'normal',\n",
       "                          'showline': True,\n",
       "                          'title': {'text': 'Seasonality: yearly'}},\n",
       "               'yaxis4': {'anchor': 'x4',\n",
       "                          'domain': [0.4469387755102041, 0.553061224489796],\n",
       "                          'linewidth': 1.5,\n",
       "                          'mirror': True,\n",
       "                          'rangemode': 'normal',\n",
       "                          'showline': True,\n",
       "                          'title': {'text': 'Seasonality: weekly'}},\n",
       "               'yaxis5': {'anchor': 'x5',\n",
       "                          'domain': [0.2979591836734694, 0.40408163265306124],\n",
       "                          'linewidth': 1.5,\n",
       "                          'mirror': True,\n",
       "                          'rangemode': 'normal',\n",
       "                          'showline': True,\n",
       "                          'title': {'text': 'Seasonality: daily'}},\n",
       "               'yaxis6': {'anchor': 'x6',\n",
       "                          'domain': [0.1489795918367347, 0.25510204081632654],\n",
       "                          'linewidth': 1.5,\n",
       "                          'mirror': True,\n",
       "                          'rangemode': 'normal',\n",
       "                          'showline': True,\n",
       "                          'title': {'text': 'AR weight (12)-ahead'}},\n",
       "               'yaxis7': {'anchor': 'x7',\n",
       "                          'domain': [0.0, 0.10612244897959185],\n",
       "                          'linewidth': 1.5,\n",
       "                          'mirror': True,\n",
       "                          'rangemode': 'normal',\n",
       "                          'showline': True,\n",
       "                          'title': {'text': 'Additive event weight'}}}\n",
       "})"
      ]
     },
     "execution_count": 15,
     "metadata": {},
     "output_type": "execute_result"
    }
   ],
   "source": [
    "m.plot_parameters()"
   ]
  },
  {
   "cell_type": "code",
   "execution_count": null,
   "metadata": {},
   "outputs": [],
   "source": []
  }
 ],
 "metadata": {
  "kernelspec": {
   "display_name": ".venv",
   "language": "python",
   "name": "python3"
  },
  "language_info": {
   "codemirror_mode": {
    "name": "ipython",
    "version": 3
   },
   "file_extension": ".py",
   "mimetype": "text/x-python",
   "name": "python",
   "nbconvert_exporter": "python",
   "pygments_lexer": "ipython3",
   "version": "3.10.12"
  }
 },
 "nbformat": 4,
 "nbformat_minor": 2
}
