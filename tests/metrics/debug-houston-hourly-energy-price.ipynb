{
 "cells": [
  {
   "cell_type": "code",
   "execution_count": 1,
   "metadata": {},
   "outputs": [],
   "source": [
    "import os\n",
    "import pathlib\n",
    "\n",
    "import numpy as np\n",
    "import pandas as pd\n",
    "import plotly.graph_objects as go\n",
    "from plotly.subplots import make_subplots\n",
    "from plotly_resampler import unregister_plotly_resampler\n",
    "\n",
    "from neuralprophet import NeuralProphet, set_random_seed"
   ]
  },
  {
   "cell_type": "code",
   "execution_count": null,
   "metadata": {},
   "outputs": [],
   "source": []
  },
  {
   "cell_type": "code",
   "execution_count": 2,
   "metadata": {},
   "outputs": [],
   "source": [
    "def create_metrics_plot(metrics):\n",
    "    # Deactivate the resampler since it is not compatible with kaleido (image export)\n",
    "    unregister_plotly_resampler()\n",
    "\n",
    "    # Plotly params\n",
    "    prediction_color = \"#2d92ff\"\n",
    "    actual_color = \"black\"\n",
    "    line_width = 2\n",
    "    xaxis_args = {\"showline\": True, \"mirror\": True, \"linewidth\": 1.5, \"showgrid\": False}\n",
    "    yaxis_args = {\n",
    "        \"showline\": True,\n",
    "        \"mirror\": True,\n",
    "        \"linewidth\": 1.5,\n",
    "        \"showgrid\": False,\n",
    "        \"rangemode\": \"tozero\",\n",
    "        \"type\": \"log\",\n",
    "    }\n",
    "    layout_args = {\n",
    "        \"autosize\": True,\n",
    "        \"template\": \"plotly_white\",\n",
    "        \"margin\": go.layout.Margin(l=0, r=10, b=0, t=30, pad=0),\n",
    "        \"font\": dict(size=10),\n",
    "        \"title\": dict(font=dict(size=10)),\n",
    "        \"width\": 1000,\n",
    "        \"height\": 200,\n",
    "    }\n",
    "\n",
    "    metric_cols = [col for col in metrics.columns if not (\"_val\" in col or col == \"RegLoss\" or col == \"epoch\")]\n",
    "    fig = make_subplots(rows=1, cols=len(metric_cols), subplot_titles=metric_cols)\n",
    "    for i, metric in enumerate(metric_cols):\n",
    "        fig.add_trace(\n",
    "            go.Scatter(\n",
    "                y=metrics[metric],\n",
    "                name=metric,\n",
    "                mode=\"lines\",\n",
    "                line=dict(color=prediction_color, width=line_width),\n",
    "                legendgroup=metric,\n",
    "            ),\n",
    "            row=1,\n",
    "            col=i + 1,\n",
    "        )\n",
    "        if f\"{metric}_val\" in metrics.columns:\n",
    "            fig.add_trace(\n",
    "                go.Scatter(\n",
    "                    y=metrics[f\"{metric}_val\"],\n",
    "                    name=f\"{metric}_val\",\n",
    "                    mode=\"lines\",\n",
    "                    line=dict(color=actual_color, width=line_width),\n",
    "                    legendgroup=metric,\n",
    "                ),\n",
    "                row=1,\n",
    "                col=i + 1,\n",
    "            )\n",
    "        if metric == \"Loss\":\n",
    "            fig.add_trace(\n",
    "                go.Scatter(\n",
    "                    y=metrics[\"RegLoss\"],\n",
    "                    name=\"RegLoss\",\n",
    "                    mode=\"lines\",\n",
    "                    line=dict(color=actual_color, width=line_width),\n",
    "                    legendgroup=metric,\n",
    "                ),\n",
    "                row=1,\n",
    "                col=i + 1,\n",
    "            )\n",
    "    fig.update_xaxes(xaxis_args)\n",
    "    fig.update_yaxes(yaxis_args)\n",
    "    fig.update_layout(layout_args)\n",
    "    return fig"
   ]
  },
  {
   "cell_type": "code",
   "execution_count": 3,
   "metadata": {},
   "outputs": [],
   "source": [
    "DIR = \"~/github/neural_prophet\"\n",
    "DATA_DIR = os.path.join(DIR, \"tests\", \"test-data\")\n",
    "houston_file = os.path.join(DATA_DIR, \"houston_hourly_energy_price.csv\")"
   ]
  },
  {
   "cell_type": "code",
   "execution_count": 4,
   "metadata": {},
   "outputs": [
    {
     "data": {
      "text/plain": [
       "<Axes: >"
      ]
     },
     "execution_count": 4,
     "metadata": {},
     "output_type": "execute_result"
    },
    {
     "data": {
      "image/png": "[encoded data removed]",
      "text/plain": [
       "<Figure size 640x480 with 1 Axes>"
      ]
     },
     "metadata": {},
     "output_type": "display_data"
    }
   ],
   "source": [
    "df = pd.read_csv(houston_file)\n",
    "# df[\"y\"] = np.log(1 + df[\"y\"].apply(lambda x: max(0, x)))\n",
    "df.plot()"
   ]
  },
  {
   "cell_type": "code",
   "execution_count": 5,
   "metadata": {},
   "outputs": [
    {
     "data": {
      "text/plain": [
       "<neuralprophet.forecaster.NeuralProphet at 0x75f8bc8fa260>"
      ]
     },
     "execution_count": 5,
     "metadata": {},
     "output_type": "execute_result"
    }
   ],
   "source": [
    "m = NeuralProphet(\n",
    "    changepoints_range=5.0 / 6.0,\n",
    "    n_changepoints=5,\n",
    "    yearly_seasonality=3,\n",
    "    weekly_seasonality=6,\n",
    "    daily_seasonality=8,\n",
    "    n_lags=72,\n",
    "    n_forecasts=24,\n",
    "    ar_layers=[16, 8],\n",
    "    newer_samples_weight=1,\n",
    "    # quantiles=[0.05, 0.95],\n",
    ")\n",
    "m.add_country_holidays(\"US\", lower_window=1, upper_window=1)"
   ]
  },
  {
   "cell_type": "code",
   "execution_count": 6,
   "metadata": {},
   "outputs": [
    {
     "name": "stderr",
     "output_type": "stream",
     "text": [
      "INFO - (NP.df_utils._infer_frequency) - Major frequency H corresponds to 99.976% of the data.\n",
      "INFO - (NP.df_utils._infer_frequency) - Defined frequency is equal to major frequency - H\n",
      "INFO - (NP.df_utils.return_df_in_original_format) - Returning df with no ID column\n",
      "INFO - (NP.df_utils.return_df_in_original_format) - Returning df with no ID column\n"
     ]
    },
    {
     "data": {
      "text/plain": [
       "<Axes: >"
      ]
     },
     "execution_count": 6,
     "metadata": {},
     "output_type": "execute_result"
    },
    {
     "data": {
      "image/png": "[encoded data removed]",
      "text/plain": [
       "<Figure size 640x480 with 1 Axes>"
      ]
     },
     "metadata": {},
     "output_type": "display_data"
    }
   ],
   "source": [
    "df_train, df_test = m.split_df(df=df, freq=\"H\", valid_p=1.0 / 7.0)\n",
    "df_test[\"y\"].plot()"
   ]
  },
  {
   "cell_type": "code",
   "execution_count": 7,
   "metadata": {},
   "outputs": [
    {
     "name": "stderr",
     "output_type": "stream",
     "text": [
      "WARNING - (NP.forecaster.fit) - When Global modeling with local normalization, metrics are displayed in normalized scale.\n",
      "INFO - (NP.df_utils._infer_frequency) - Major frequency H corresponds to 99.973% of the data.\n",
      "INFO - (NP.df_utils._infer_frequency) - Defined frequency is equal to major frequency - H\n",
      "INFO - (NP.config.init_data_params) - Setting normalization to global as only one dataframe provided for training.\n",
      "INFO - (NP.config.set_auto_batch_epoch) - Auto-set batch_size to 256\n",
      "INFO - (NP.config.set_auto_batch_epoch) - Auto-set epochs to 30\n",
      "WARNING - (NP.config.set_lr_finder_args) - Learning rate finder: The number of batches (205) is too small than the required number                     for the learning rate finder (268). The results might not be optimal.\n"
     ]
    },
    {
     "data": {
      "application/vnd.jupyter.widget-view+json": {
       "model_id": "75c318b9b7244a3bad18a579070f8467",
       "version_major": 2,
       "version_minor": 0
      },
      "text/plain": [
       "Finding best initial lr:   0%|          | 0/268 [00:00<?, ?it/s]"
      ]
     },
     "metadata": {},
     "output_type": "display_data"
    },
    {
     "data": {
      "application/vnd.jupyter.widget-view+json": {
       "model_id": "c19b2ee482ce468b8e9097a6b1b97302",
       "version_major": 2,
       "version_minor": 0
      },
      "text/plain": [
       "Training: 0it [00:00, ?it/s]"
      ]
     },
     "metadata": {},
     "output_type": "display_data"
    },
    {
     "data": {
      "application/vnd.jupyter.widget-view+json": {
       "model_id": "0d997d8df715489e971f724505fc3423",
       "version_major": 2,
       "version_minor": 0
      },
      "text/plain": [
       "Validation: 0it [00:00, ?it/s]"
      ]
     },
     "metadata": {},
     "output_type": "display_data"
    },
    {
     "data": {
      "application/vnd.jupyter.widget-view+json": {
       "model_id": "c5fd38a49c154978918fde289b1341bf",
       "version_major": 2,
       "version_minor": 0
      },
      "text/plain": [
       "Validation: 0it [00:00, ?it/s]"
      ]
     },
     "metadata": {},
     "output_type": "display_data"
    },
    {
     "data": {
      "application/vnd.jupyter.widget-view+json": {
       "model_id": "5960be46a935484ea1d54d54b63a649a",
       "version_major": 2,
       "version_minor": 0
      },
      "text/plain": [
       "Validation: 0it [00:00, ?it/s]"
      ]
     },
     "metadata": {},
     "output_type": "display_data"
    },
    {
     "data": {
      "application/vnd.jupyter.widget-view+json": {
       "model_id": "518325ed6940452d8fbaf6c56f94a165",
       "version_major": 2,
       "version_minor": 0
      },
      "text/plain": [
       "Validation: 0it [00:00, ?it/s]"
      ]
     },
     "metadata": {},
     "output_type": "display_data"
    },
    {
     "data": {
      "application/vnd.jupyter.widget-view+json": {
       "model_id": "b5a010a3ae9e440ba6a7d1f43466d45a",
       "version_major": 2,
       "version_minor": 0
      },
      "text/plain": [
       "Validation: 0it [00:00, ?it/s]"
      ]
     },
     "metadata": {},
     "output_type": "display_data"
    },
    {
     "data": {
      "application/vnd.jupyter.widget-view+json": {
       "model_id": "0b5eb8d891fc4f0c8ce118b16e91f028",
       "version_major": 2,
       "version_minor": 0
      },
      "text/plain": [
       "Validation: 0it [00:00, ?it/s]"
      ]
     },
     "metadata": {},
     "output_type": "display_data"
    },
    {
     "data": {
      "application/vnd.jupyter.widget-view+json": {
       "model_id": "7edc96e8ddbe4e14adf4a08d77f8c681",
       "version_major": 2,
       "version_minor": 0
      },
      "text/plain": [
       "Validation: 0it [00:00, ?it/s]"
      ]
     },
     "metadata": {},
     "output_type": "display_data"
    },
    {
     "data": {
      "application/vnd.jupyter.widget-view+json": {
       "model_id": "3323b7df35e749d1bf33c87b8d12c55c",
       "version_major": 2,
       "version_minor": 0
      },
      "text/plain": [
       "Validation: 0it [00:00, ?it/s]"
      ]
     },
     "metadata": {},
     "output_type": "display_data"
    },
    {
     "data": {
      "application/vnd.jupyter.widget-view+json": {
       "model_id": "b5e01450762544c08cad7b6aeaae66b5",
       "version_major": 2,
       "version_minor": 0
      },
      "text/plain": [
       "Validation: 0it [00:00, ?it/s]"
      ]
     },
     "metadata": {},
     "output_type": "display_data"
    },
    {
     "data": {
      "application/vnd.jupyter.widget-view+json": {
       "model_id": "f26ec610f91448009ac11b12f3ff49a5",
       "version_major": 2,
       "version_minor": 0
      },
      "text/plain": [
       "Validation: 0it [00:00, ?it/s]"
      ]
     },
     "metadata": {},
     "output_type": "display_data"
    },
    {
     "data": {
      "application/vnd.jupyter.widget-view+json": {
       "model_id": "19c23e82ec93406988f3109e64c62af3",
       "version_major": 2,
       "version_minor": 0
      },
      "text/plain": [
       "Validation: 0it [00:00, ?it/s]"
      ]
     },
     "metadata": {},
     "output_type": "display_data"
    },
    {
     "data": {
      "application/vnd.jupyter.widget-view+json": {
       "model_id": "f348076b6d744bf2bd5a90c41850597f",
       "version_major": 2,
       "version_minor": 0
      },
      "text/plain": [
       "Validation: 0it [00:00, ?it/s]"
      ]
     },
     "metadata": {},
     "output_type": "display_data"
    },
    {
     "data": {
      "application/vnd.jupyter.widget-view+json": {
       "model_id": "19fffed5fc284959af296083e0cccddd",
       "version_major": 2,
       "version_minor": 0
      },
      "text/plain": [
       "Validation: 0it [00:00, ?it/s]"
      ]
     },
     "metadata": {},
     "output_type": "display_data"
    },
    {
     "data": {
      "application/vnd.jupyter.widget-view+json": {
       "model_id": "e4d4e0c55b724fd48626d321bf8635ce",
       "version_major": 2,
       "version_minor": 0
      },
      "text/plain": [
       "Validation: 0it [00:00, ?it/s]"
      ]
     },
     "metadata": {},
     "output_type": "display_data"
    },
    {
     "data": {
      "application/vnd.jupyter.widget-view+json": {
       "model_id": "eb1f22520df5462abef0385970c6230a",
       "version_major": 2,
       "version_minor": 0
      },
      "text/plain": [
       "Validation: 0it [00:00, ?it/s]"
      ]
     },
     "metadata": {},
     "output_type": "display_data"
    },
    {
     "data": {
      "application/vnd.jupyter.widget-view+json": {
       "model_id": "e6721d7b21514591ba9f3bc15e6e4902",
       "version_major": 2,
       "version_minor": 0
      },
      "text/plain": [
       "Validation: 0it [00:00, ?it/s]"
      ]
     },
     "metadata": {},
     "output_type": "display_data"
    },
    {
     "data": {
      "application/vnd.jupyter.widget-view+json": {
       "model_id": "a164973736324fc5a3a9ff0d3143bcfc",
       "version_major": 2,
       "version_minor": 0
      },
      "text/plain": [
       "Validation: 0it [00:00, ?it/s]"
      ]
     },
     "metadata": {},
     "output_type": "display_data"
    },
    {
     "data": {
      "application/vnd.jupyter.widget-view+json": {
       "model_id": "fd1629dd90814e0ea8c0b031822b7673",
       "version_major": 2,
       "version_minor": 0
      },
      "text/plain": [
       "Validation: 0it [00:00, ?it/s]"
      ]
     },
     "metadata": {},
     "output_type": "display_data"
    },
    {
     "data": {
      "application/vnd.jupyter.widget-view+json": {
       "model_id": "73846a14eecd4cdf9bb7f040408947ff",
       "version_major": 2,
       "version_minor": 0
      },
      "text/plain": [
       "Validation: 0it [00:00, ?it/s]"
      ]
     },
     "metadata": {},
     "output_type": "display_data"
    },
    {
     "data": {
      "application/vnd.jupyter.widget-view+json": {
       "model_id": "e2a63a6815e3437f93bbdd1807b4716e",
       "version_major": 2,
       "version_minor": 0
      },
      "text/plain": [
       "Validation: 0it [00:00, ?it/s]"
      ]
     },
     "metadata": {},
     "output_type": "display_data"
    },
    {
     "data": {
      "application/vnd.jupyter.widget-view+json": {
       "model_id": "5261ed05d812451f99eeafb6a6d91c53",
       "version_major": 2,
       "version_minor": 0
      },
      "text/plain": [
       "Validation: 0it [00:00, ?it/s]"
      ]
     },
     "metadata": {},
     "output_type": "display_data"
    },
    {
     "data": {
      "application/vnd.jupyter.widget-view+json": {
       "model_id": "e6411d8ff7634d78bfa7f6e129d618d3",
       "version_major": 2,
       "version_minor": 0
      },
      "text/plain": [
       "Validation: 0it [00:00, ?it/s]"
      ]
     },
     "metadata": {},
     "output_type": "display_data"
    },
    {
     "data": {
      "application/vnd.jupyter.widget-view+json": {
       "model_id": "75e7625b7c624abea6a4d7a4b0c7d5d2",
       "version_major": 2,
       "version_minor": 0
      },
      "text/plain": [
       "Validation: 0it [00:00, ?it/s]"
      ]
     },
     "metadata": {},
     "output_type": "display_data"
    },
    {
     "data": {
      "application/vnd.jupyter.widget-view+json": {
       "model_id": "28f1bd61f42047c78afd3d344d2ad10e",
       "version_major": 2,
       "version_minor": 0
      },
      "text/plain": [
       "Validation: 0it [00:00, ?it/s]"
      ]
     },
     "metadata": {},
     "output_type": "display_data"
    },
    {
     "data": {
      "application/vnd.jupyter.widget-view+json": {
       "model_id": "361d9b54cf6c4f71ac9e0855ee8b2bad",
       "version_major": 2,
       "version_minor": 0
      },
      "text/plain": [
       "Validation: 0it [00:00, ?it/s]"
      ]
     },
     "metadata": {},
     "output_type": "display_data"
    },
    {
     "data": {
      "application/vnd.jupyter.widget-view+json": {
       "model_id": "d19a67a597354bcc803108d2cb208f2a",
       "version_major": 2,
       "version_minor": 0
      },
      "text/plain": [
       "Validation: 0it [00:00, ?it/s]"
      ]
     },
     "metadata": {},
     "output_type": "display_data"
    },
    {
     "data": {
      "application/vnd.jupyter.widget-view+json": {
       "model_id": "cb9febe28f2042228a821d6330523cc3",
       "version_major": 2,
       "version_minor": 0
      },
      "text/plain": [
       "Validation: 0it [00:00, ?it/s]"
      ]
     },
     "metadata": {},
     "output_type": "display_data"
    },
    {
     "data": {
      "application/vnd.jupyter.widget-view+json": {
       "model_id": "df3f89ff7c3049d8a060e1f0f96ff05e",
       "version_major": 2,
       "version_minor": 0
      },
      "text/plain": [
       "Validation: 0it [00:00, ?it/s]"
      ]
     },
     "metadata": {},
     "output_type": "display_data"
    },
    {
     "data": {
      "application/vnd.jupyter.widget-view+json": {
       "model_id": "03d2ccf10c394421bcea1ac9d6130370",
       "version_major": 2,
       "version_minor": 0
      },
      "text/plain": [
       "Validation: 0it [00:00, ?it/s]"
      ]
     },
     "metadata": {},
     "output_type": "display_data"
    },
    {
     "data": {
      "application/vnd.jupyter.widget-view+json": {
       "model_id": "21a1a229940249849aa96aa3fa3369e8",
       "version_major": 2,
       "version_minor": 0
      },
      "text/plain": [
       "Validation: 0it [00:00, ?it/s]"
      ]
     },
     "metadata": {},
     "output_type": "display_data"
    }
   ],
   "source": [
    "metrics = m.fit(df_train, validation_df=df_test, freq=\"H\")  # , early_stopping=True)"
   ]
  },
  {
   "cell_type": "code",
   "execution_count": 8,
   "metadata": {},
   "outputs": [
    {
     "data": {
      "application/vnd.plotly.v1+json": {
       "config": {
        "plotlyServerURL": "https://plot.ly"
       },
       "data": [
        {
         "legendgroup": "MAE",
         "line": {
          "color": "#2d92ff",
          "width": 2
         },
         "mode": "lines",
         "name": "MAE",
         "type": "scatter",
         "xaxis": "x",
         "y": [
          88.25354766845703,
          31.619985580444336,
          29.173154830932617,
          28.378616333007812,
          26.994369506835938,
          26.64138412475586,
          26.76725196838379,
          27.074710845947266,
          27.760723114013672,
          27.344707489013672,
          26.903539657592773,
          25.738061904907227,
          25.433698654174805,
          25.457645416259766,
          24.59796905517578,
          24.25767707824707,
          23.977930068969727,
          23.786020278930664,
          23.46474838256836,
          23.31785774230957,
          23.367273330688477,
          23.064603805541992,
          23.00555992126465,
          22.791311264038086,
          22.640605926513672,
          22.63726806640625,
          22.488231658935547,
          22.471620559692383,
          22.42511749267578,
          22.39556884765625
         ],
         "yaxis": "y"
        },
        {
         "legendgroup": "MAE",
         "line": {
          "color": "black",
          "width": 2
         },
         "mode": "lines",
         "name": "MAE_val",
         "type": "scatter",
         "xaxis": "x",
         "y": [
          62.715576171875,
          60.83704376220703,
          70.24456024169922,
          58.22044372558594,
          64.13475036621094,
          59.74177932739258,
          62.73817825317383,
          67.10933685302734,
          59.46116256713867,
          60.91691207885742,
          60.11372756958008,
          57.19289016723633,
          59.5479736328125,
          58.47383117675781,
          57.16640090942383,
          56.449607849121094,
          57.16835021972656,
          56.97719955444336,
          55.93524169921875,
          56.66608810424805,
          56.652286529541016,
          56.890380859375,
          56.61785125732422,
          56.6046257019043,
          56.05262756347656,
          56.08003234863281,
          56.30647659301758,
          55.92433166503906,
          56.104774475097656,
          55.91935729980469
         ],
         "yaxis": "y"
        },
        {
         "legendgroup": "RMSE",
         "line": {
          "color": "#2d92ff",
          "width": 2
         },
         "mode": "lines",
         "name": "RMSE",
         "type": "scatter",
         "xaxis": "x2",
         "y": [
          294.1334533691406,
          204.79322814941406,
          195.3940887451172,
          192.5316619873047,
          195.3284912109375,
          201.61451721191406,
          203.22007751464844,
          206.62831115722656,
          215.7920684814453,
          211.30398559570312,
          207.94595336914062,
          191.6617431640625,
          192.10043334960938,
          191.53916931152344,
          185.9738006591797,
          182.8955535888672,
          180.8223114013672,
          178.14752197265625,
          179.55471801757812,
          174.47898864746094,
          177.16488647460938,
          174.83999633789062,
          173.5363006591797,
          174.78919982910156,
          173.5925750732422,
          171.4534149169922,
          172.80751037597656,
          172.71339416503906,
          172.73365783691406,
          172.39874267578125
         ],
         "yaxis": "y2"
        },
        {
         "legendgroup": "RMSE",
         "line": {
          "color": "black",
          "width": 2
         },
         "mode": "lines",
         "name": "RMSE_val",
         "type": "scatter",
         "xaxis": "x2",
         "y": [
          148.07925415039062,
          145.83572387695312,
          149.02772521972656,
          144.03125,
          147.70892333984375,
          144.8913116455078,
          146.80474853515625,
          149.91928100585938,
          144.4673614501953,
          145.44418334960938,
          145.15985107421875,
          143.38119506835938,
          145.44773864746094,
          144.22552490234375,
          143.8255615234375,
          143.21810913085938,
          143.72926330566406,
          143.63287353515625,
          142.87860107421875,
          143.3769073486328,
          143.36058044433594,
          143.55130004882812,
          143.43853759765625,
          143.44863891601562,
          143.12208557128906,
          143.13357543945312,
          143.2290496826172,
          143.0236358642578,
          143.1554412841797,
          143.0417938232422
         ],
         "yaxis": "y2"
        },
        {
         "legendgroup": "Loss",
         "line": {
          "color": "#2d92ff",
          "width": 2
         },
         "mode": "lines",
         "name": "Loss",
         "type": "scatter",
         "xaxis": "x3",
         "y": [
          0.6486837863922119,
          0.2026529312133789,
          0.18254494667053223,
          0.17717279493808746,
          0.17258420586585999,
          0.17463386058807373,
          0.17500431835651398,
          0.17841662466526031,
          0.18403512239456177,
          0.18104222416877747,
          0.17744527757167816,
          0.16719688475131989,
          0.16526415944099426,
          0.16631348431110382,
          0.1588895469903946,
          0.15664076805114746,
          0.15417538583278656,
          0.1528863161802292,
          0.150047168135643,
          0.14886021614074707,
          0.14934222400188446,
          0.14682061970233917,
          0.14634370803833008,
          0.14455723762512207,
          0.14329010248184204,
          0.14336518943309784,
          0.1420985758304596,
          0.14199236035346985,
          0.1416660100221634,
          0.14141444861888885
         ],
         "yaxis": "y3"
        },
        {
         "legendgroup": "Loss",
         "line": {
          "color": "black",
          "width": 2
         },
         "mode": "lines",
         "name": "Loss_val",
         "type": "scatter",
         "xaxis": "x3",
         "y": [
          0.425812304019928,
          0.3987170159816742,
          0.46966299414634705,
          0.36846625804901123,
          0.41753950715065,
          0.38071122765541077,
          0.4056379199028015,
          0.442534476518631,
          0.37850016355514526,
          0.3908848762512207,
          0.3838065564632416,
          0.3603566586971283,
          0.37883126735687256,
          0.3701840043067932,
          0.3595345616340637,
          0.3535687327384949,
          0.3592854142189026,
          0.3579310476779938,
          0.34957966208457947,
          0.35532358288764954,
          0.3553251624107361,
          0.35718420147895813,
          0.3551093339920044,
          0.3548382818698883,
          0.3504965007305145,
          0.35068151354789734,
          0.352524071931839,
          0.3494309186935425,
          0.3508685827255249,
          0.34935295581817627
         ],
         "yaxis": "y3"
        },
        {
         "legendgroup": "Loss",
         "line": {
          "color": "black",
          "width": 2
         },
         "mode": "lines",
         "name": "RegLoss",
         "type": "scatter",
         "xaxis": "x3",
         "y": [
          0,
          0,
          0,
          0,
          0,
          0,
          0,
          0,
          0,
          0,
          0,
          0,
          0,
          0,
          0,
          0,
          0,
          0,
          0,
          0,
          0,
          0,
          0,
          0,
          0,
          0,
          0,
          0,
          0,
          0
         ],
         "yaxis": "y3"
        }
       ],
       "layout": {
        "annotations": [
         {
          "font": {
           "size": 16
          },
          "showarrow": false,
          "text": "MAE",
          "x": 0.14444444444444446,
          "xanchor": "center",
          "xref": "paper",
          "y": 1,
          "yanchor": "bottom",
          "yref": "paper"
         },
         {
          "font": {
           "size": 16
          },
          "showarrow": false,
          "text": "RMSE",
          "x": 0.5,
          "xanchor": "center",
          "xref": "paper",
          "y": 1,
          "yanchor": "bottom",
          "yref": "paper"
         },
         {
          "font": {
           "size": 16
          },
          "showarrow": false,
          "text": "Loss",
          "x": 0.8555555555555556,
          "xanchor": "center",
          "xref": "paper",
          "y": 1,
          "yanchor": "bottom",
          "yref": "paper"
         }
        ],
        "autosize": true,
        "font": {
         "size": 10
        },
        "height": 200,
        "margin": {
         "b": 0,
         "l": 0,
         "pad": 0,
         "r": 10,
         "t": 30
        },
        "template": {
         "data": {
          "bar": [
           {
            "error_x": {
             "color": "#2a3f5f"
            },
            "error_y": {
             "color": "#2a3f5f"
            },
            "marker": {
             "line": {
              "color": "white",
              "width": 0.5
             },
             "pattern": {
              "fillmode": "overlay",
              "size": 10,
              "solidity": 0.2
             }
            },
            "type": "bar"
           }
          ],
          "barpolar": [
           {
            "marker": {
             "line": {
              "color": "white",
              "width": 0.5
             },
             "pattern": {
              "fillmode": "overlay",
              "size": 10,
              "solidity": 0.2
             }
            },
            "type": "barpolar"
           }
          ],
          "carpet": [
           {
            "aaxis": {
             "endlinecolor": "#2a3f5f",
             "gridcolor": "#C8D4E3",
             "linecolor": "#C8D4E3",
             "minorgridcolor": "#C8D4E3",
             "startlinecolor": "#2a3f5f"
            },
            "baxis": {
             "endlinecolor": "#2a3f5f",
             "gridcolor": "#C8D4E3",
             "linecolor": "#C8D4E3",
             "minorgridcolor": "#C8D4E3",
             "startlinecolor": "#2a3f5f"
            },
            "type": "carpet"
           }
          ],
          "choropleth": [
           {
            "colorbar": {
             "outlinewidth": 0,
             "ticks": ""
            },
            "type": "choropleth"
           }
          ],
          "contour": [
           {
            "colorbar": {
             "outlinewidth": 0,
             "ticks": ""
            },
            "colorscale": [
             [
              0,
              "#0d0887"
             ],
             [
              0.1111111111111111,
              "#46039f"
             ],
             [
              0.2222222222222222,
              "#7201a8"
             ],
             [
              0.3333333333333333,
              "#9c179e"
             ],
             [
              0.4444444444444444,
              "#bd3786"
             ],
             [
              0.5555555555555556,
              "#d8576b"
             ],
             [
              0.6666666666666666,
              "#ed7953"
             ],
             [
              0.7777777777777778,
              "#fb9f3a"
             ],
             [
              0.8888888888888888,
              "#fdca26"
             ],
             [
              1,
              "#f0f921"
             ]
            ],
            "type": "contour"
           }
          ],
          "contourcarpet": [
           {
            "colorbar": {
             "outlinewidth": 0,
             "ticks": ""
            },
            "type": "contourcarpet"
           }
          ],
          "heatmap": [
           {
            "colorbar": {
             "outlinewidth": 0,
             "ticks": ""
            },
            "colorscale": [
             [
              0,
              "#0d0887"
             ],
             [
              0.1111111111111111,
              "#46039f"
             ],
             [
              0.2222222222222222,
              "#7201a8"
             ],
             [
              0.3333333333333333,
              "#9c179e"
             ],
             [
              0.4444444444444444,
              "#bd3786"
             ],
             [
              0.5555555555555556,
              "#d8576b"
             ],
             [
              0.6666666666666666,
              "#ed7953"
             ],
             [
              0.7777777777777778,
              "#fb9f3a"
             ],
             [
              0.8888888888888888,
              "#fdca26"
             ],
             [
              1,
              "#f0f921"
             ]
            ],
            "type": "heatmap"
           }
          ],
          "heatmapgl": [
           {
            "colorbar": {
             "outlinewidth": 0,
             "ticks": ""
            },
            "colorscale": [
             [
              0,
              "#0d0887"
             ],
             [
              0.1111111111111111,
              "#46039f"
             ],
             [
              0.2222222222222222,
              "#7201a8"
             ],
             [
              0.3333333333333333,
              "#9c179e"
             ],
             [
              0.4444444444444444,
              "#bd3786"
             ],
             [
              0.5555555555555556,
              "#d8576b"
             ],
             [
              0.6666666666666666,
              "#ed7953"
             ],
             [
              0.7777777777777778,
              "#fb9f3a"
             ],
             [
              0.8888888888888888,
              "#fdca26"
             ],
             [
              1,
              "#f0f921"
             ]
            ],
            "type": "heatmapgl"
           }
          ],
          "histogram": [
           {
            "marker": {
             "pattern": {
              "fillmode": "overlay",
              "size": 10,
              "solidity": 0.2
             }
            },
            "type": "histogram"
           }
          ],
          "histogram2d": [
           {
            "colorbar": {
             "outlinewidth": 0,
             "ticks": ""
            },
            "colorscale": [
             [
              0,
              "#0d0887"
             ],
             [
              0.1111111111111111,
              "#46039f"
             ],
             [
              0.2222222222222222,
              "#7201a8"
             ],
             [
              0.3333333333333333,
              "#9c179e"
             ],
             [
              0.4444444444444444,
              "#bd3786"
             ],
             [
              0.5555555555555556,
              "#d8576b"
             ],
             [
              0.6666666666666666,
              "#ed7953"
             ],
             [
              0.7777777777777778,
              "#fb9f3a"
             ],
             [
              0.8888888888888888,
              "#fdca26"
             ],
             [
              1,
              "#f0f921"
             ]
            ],
            "type": "histogram2d"
           }
          ],
          "histogram2dcontour": [
           {
            "colorbar": {
             "outlinewidth": 0,
             "ticks": ""
            },
            "colorscale": [
             [
              0,
              "#0d0887"
             ],
             [
              0.1111111111111111,
              "#46039f"
             ],
             [
              0.2222222222222222,
              "#7201a8"
             ],
             [
              0.3333333333333333,
              "#9c179e"
             ],
             [
              0.4444444444444444,
              "#bd3786"
             ],
             [
              0.5555555555555556,
              "#d8576b"
             ],
             [
              0.6666666666666666,
              "#ed7953"
             ],
             [
              0.7777777777777778,
              "#fb9f3a"
             ],
             [
              0.8888888888888888,
              "#fdca26"
             ],
             [
              1,
              "#f0f921"
             ]
            ],
            "type": "histogram2dcontour"
           }
          ],
          "mesh3d": [
           {
            "colorbar": {
             "outlinewidth": 0,
             "ticks": ""
            },
            "type": "mesh3d"
           }
          ],
          "parcoords": [
           {
            "line": {
             "colorbar": {
              "outlinewidth": 0,
              "ticks": ""
             }
            },
            "type": "parcoords"
           }
          ],
          "pie": [
           {
            "automargin": true,
            "type": "pie"
           }
          ],
          "scatter": [
           {
            "fillpattern": {
             "fillmode": "overlay",
             "size": 10,
             "solidity": 0.2
            },
            "type": "scatter"
           }
          ],
          "scatter3d": [
           {
            "line": {
             "colorbar": {
              "outlinewidth": 0,
              "ticks": ""
             }
            },
            "marker": {
             "colorbar": {
              "outlinewidth": 0,
              "ticks": ""
             }
            },
            "type": "scatter3d"
           }
          ],
          "scattercarpet": [
           {
            "marker": {
             "colorbar": {
              "outlinewidth": 0,
              "ticks": ""
             }
            },
            "type": "scattercarpet"
           }
          ],
          "scattergeo": [
           {
            "marker": {
             "colorbar": {
              "outlinewidth": 0,
              "ticks": ""
             }
            },
            "type": "scattergeo"
           }
          ],
          "scattergl": [
           {
            "marker": {
             "colorbar": {
              "outlinewidth": 0,
              "ticks": ""
             }
            },
            "type": "scattergl"
           }
          ],
          "scattermapbox": [
           {
            "marker": {
             "colorbar": {
              "outlinewidth": 0,
              "ticks": ""
             }
            },
            "type": "scattermapbox"
           }
          ],
          "scatterpolar": [
           {
            "marker": {
             "colorbar": {
              "outlinewidth": 0,
              "ticks": ""
             }
            },
            "type": "scatterpolar"
           }
          ],
          "scatterpolargl": [
           {
            "marker": {
             "colorbar": {
              "outlinewidth": 0,
              "ticks": ""
             }
            },
            "type": "scatterpolargl"
           }
          ],
          "scatterternary": [
           {
            "marker": {
             "colorbar": {
              "outlinewidth": 0,
              "ticks": ""
             }
            },
            "type": "scatterternary"
           }
          ],
          "surface": [
           {
            "colorbar": {
             "outlinewidth": 0,
             "ticks": ""
            },
            "colorscale": [
             [
              0,
              "#0d0887"
             ],
             [
              0.1111111111111111,
              "#46039f"
             ],
             [
              0.2222222222222222,
              "#7201a8"
             ],
             [
              0.3333333333333333,
              "#9c179e"
             ],
             [
              0.4444444444444444,
              "#bd3786"
             ],
             [
              0.5555555555555556,
              "#d8576b"
             ],
             [
              0.6666666666666666,
              "#ed7953"
             ],
             [
              0.7777777777777778,
              "#fb9f3a"
             ],
             [
              0.8888888888888888,
              "#fdca26"
             ],
             [
              1,
              "#f0f921"
             ]
            ],
            "type": "surface"
           }
          ],
          "table": [
           {
            "cells": {
             "fill": {
              "color": "#EBF0F8"
             },
             "line": {
              "color": "white"
             }
            },
            "header": {
             "fill": {
              "color": "#C8D4E3"
             },
             "line": {
              "color": "white"
             }
            },
            "type": "table"
           }
          ]
         },
         "layout": {
          "annotationdefaults": {
           "arrowcolor": "#2a3f5f",
           "arrowhead": 0,
           "arrowwidth": 1
          },
          "autotypenumbers": "strict",
          "coloraxis": {
           "colorbar": {
            "outlinewidth": 0,
            "ticks": ""
           }
          },
          "colorscale": {
           "diverging": [
            [
             0,
             "#8e0152"
            ],
            [
             0.1,
             "#c51b7d"
            ],
            [
             0.2,
             "#de77ae"
            ],
            [
             0.3,
             "#f1b6da"
            ],
            [
             0.4,
             "#fde0ef"
            ],
            [
             0.5,
             "#f7f7f7"
            ],
            [
             0.6,
             "#e6f5d0"
            ],
            [
             0.7,
             "#b8e186"
            ],
            [
             0.8,
             "#7fbc41"
            ],
            [
             0.9,
             "#4d9221"
            ],
            [
             1,
             "#276419"
            ]
           ],
           "sequential": [
            [
             0,
             "#0d0887"
            ],
            [
             0.1111111111111111,
             "#46039f"
            ],
            [
             0.2222222222222222,
             "#7201a8"
            ],
            [
             0.3333333333333333,
             "#9c179e"
            ],
            [
             0.4444444444444444,
             "#bd3786"
            ],
            [
             0.5555555555555556,
             "#d8576b"
            ],
            [
             0.6666666666666666,
             "#ed7953"
            ],
            [
             0.7777777777777778,
             "#fb9f3a"
            ],
            [
             0.8888888888888888,
             "#fdca26"
            ],
            [
             1,
             "#f0f921"
            ]
           ],
           "sequentialminus": [
            [
             0,
             "#0d0887"
            ],
            [
             0.1111111111111111,
             "#46039f"
            ],
            [
             0.2222222222222222,
             "#7201a8"
            ],
            [
             0.3333333333333333,
             "#9c179e"
            ],
            [
             0.4444444444444444,
             "#bd3786"
            ],
            [
             0.5555555555555556,
             "#d8576b"
            ],
            [
             0.6666666666666666,
             "#ed7953"
            ],
            [
             0.7777777777777778,
             "#fb9f3a"
            ],
            [
             0.8888888888888888,
             "#fdca26"
            ],
            [
             1,
             "#f0f921"
            ]
           ]
          },
          "colorway": [
           "#636efa",
           "#EF553B",
           "#00cc96",
           "#ab63fa",
           "#FFA15A",
           "#19d3f3",
           "#FF6692",
           "#B6E880",
           "#FF97FF",
           "#FECB52"
          ],
          "font": {
           "color": "#2a3f5f"
          },
          "geo": {
           "bgcolor": "white",
           "lakecolor": "white",
           "landcolor": "white",
           "showlakes": true,
           "showland": true,
           "subunitcolor": "#C8D4E3"
          },
          "hoverlabel": {
           "align": "left"
          },
          "hovermode": "closest",
          "mapbox": {
           "style": "light"
          },
          "paper_bgcolor": "white",
          "plot_bgcolor": "white",
          "polar": {
           "angularaxis": {
            "gridcolor": "#EBF0F8",
            "linecolor": "#EBF0F8",
            "ticks": ""
           },
           "bgcolor": "white",
           "radialaxis": {
            "gridcolor": "#EBF0F8",
            "linecolor": "#EBF0F8",
            "ticks": ""
           }
          },
          "scene": {
           "xaxis": {
            "backgroundcolor": "white",
            "gridcolor": "#DFE8F3",
            "gridwidth": 2,
            "linecolor": "#EBF0F8",
            "showbackground": true,
            "ticks": "",
            "zerolinecolor": "#EBF0F8"
           },
           "yaxis": {
            "backgroundcolor": "white",
            "gridcolor": "#DFE8F3",
            "gridwidth": 2,
            "linecolor": "#EBF0F8",
            "showbackground": true,
            "ticks": "",
            "zerolinecolor": "#EBF0F8"
           },
           "zaxis": {
            "backgroundcolor": "white",
            "gridcolor": "#DFE8F3",
            "gridwidth": 2,
            "linecolor": "#EBF0F8",
            "showbackground": true,
            "ticks": "",
            "zerolinecolor": "#EBF0F8"
           }
          },
          "shapedefaults": {
           "line": {
            "color": "#2a3f5f"
           }
          },
          "ternary": {
           "aaxis": {
            "gridcolor": "#DFE8F3",
            "linecolor": "#A2B1C6",
            "ticks": ""
           },
           "baxis": {
            "gridcolor": "#DFE8F3",
            "linecolor": "#A2B1C6",
            "ticks": ""
           },
           "bgcolor": "white",
           "caxis": {
            "gridcolor": "#DFE8F3",
            "linecolor": "#A2B1C6",
            "ticks": ""
           }
          },
          "title": {
           "x": 0.05
          },
          "xaxis": {
           "automargin": true,
           "gridcolor": "#EBF0F8",
           "linecolor": "#EBF0F8",
           "ticks": "",
           "title": {
            "standoff": 15
           },
           "zerolinecolor": "#EBF0F8",
           "zerolinewidth": 2
          },
          "yaxis": {
           "automargin": true,
           "gridcolor": "#EBF0F8",
           "linecolor": "#EBF0F8",
           "ticks": "",
           "title": {
            "standoff": 15
           },
           "zerolinecolor": "#EBF0F8",
           "zerolinewidth": 2
          }
         }
        },
        "title": {
         "font": {
          "size": 10
         }
        },
        "width": 1000,
        "xaxis": {
         "anchor": "y",
         "domain": [
          0,
          0.2888888888888889
         ],
         "linewidth": 1.5,
         "mirror": true,
         "showgrid": false,
         "showline": true
        },
        "xaxis2": {
         "anchor": "y2",
         "domain": [
          0.35555555555555557,
          0.6444444444444445
         ],
         "linewidth": 1.5,
         "mirror": true,
         "showgrid": false,
         "showline": true
        },
        "xaxis3": {
         "anchor": "y3",
         "domain": [
          0.7111111111111111,
          1
         ],
         "linewidth": 1.5,
         "mirror": true,
         "showgrid": false,
         "showline": true
        },
        "yaxis": {
         "anchor": "x",
         "domain": [
          0,
          1
         ],
         "linewidth": 1.5,
         "mirror": true,
         "rangemode": "tozero",
         "showgrid": false,
         "showline": true,
         "type": "log"
        },
        "yaxis2": {
         "anchor": "x2",
         "domain": [
          0,
          1
         ],
         "linewidth": 1.5,
         "mirror": true,
         "rangemode": "tozero",
         "showgrid": false,
         "showline": true,
         "type": "log"
        },
        "yaxis3": {
         "anchor": "x3",
         "domain": [
          0,
          1
         ],
         "linewidth": 1.5,
         "mirror": true,
         "rangemode": "tozero",
         "showgrid": false,
         "showline": true,
         "type": "log"
        }
       }
      }
     },
     "metadata": {},
     "output_type": "display_data"
    }
   ],
   "source": [
    "create_metrics_plot(metrics)"
   ]
  },
  {
   "cell_type": "code",
   "execution_count": 9,
   "metadata": {},
   "outputs": [
    {
     "data": {
      "text/plain": [
       "{'MAE_val': 55.91935729980469,\n",
       " 'RMSE_val': 143.0417938232422,\n",
       " 'Loss_val': 0.34935295581817627,\n",
       " 'RegLoss_val': 0.0,\n",
       " 'epoch': 29,\n",
       " 'MAE': 22.39556884765625,\n",
       " 'RMSE': 172.39874267578125,\n",
       " 'Loss': 0.14141444861888885,\n",
       " 'RegLoss': 0.0}"
      ]
     },
     "execution_count": 9,
     "metadata": {},
     "output_type": "execute_result"
    }
   ],
   "source": [
    "metrics.to_dict(\"records\")[-1]"
   ]
  },
  {
   "cell_type": "code",
   "execution_count": 10,
   "metadata": {},
   "outputs": [
    {
     "data": {
      "text/html": [
       "<div>\n",
       "<style scoped>\n",
       "    .dataframe tbody tr th:only-of-type {\n",
       "        vertical-align: middle;\n",
       "    }\n",
       "\n",
       "    .dataframe tbody tr th {\n",
       "        vertical-align: top;\n",
       "    }\n",
       "\n",
       "    .dataframe thead th {\n",
       "        text-align: right;\n",
       "    }\n",
       "</style>\n",
       "<table border=\"1\" class=\"dataframe\">\n",
       "  <thead>\n",
       "    <tr style=\"text-align: right;\">\n",
       "      <th></th>\n",
       "      <th>MAE_val</th>\n",
       "      <th>RMSE_val</th>\n",
       "      <th>Loss_val</th>\n",
       "      <th>RegLoss_val</th>\n",
       "      <th>epoch</th>\n",
       "      <th>MAE</th>\n",
       "      <th>RMSE</th>\n",
       "      <th>Loss</th>\n",
       "      <th>RegLoss</th>\n",
       "    </tr>\n",
       "  </thead>\n",
       "  <tbody>\n",
       "    <tr>\n",
       "      <th>29</th>\n",
       "      <td>55.919357</td>\n",
       "      <td>143.041794</td>\n",
       "      <td>0.349353</td>\n",
       "      <td>0.0</td>\n",
       "      <td>29</td>\n",
       "      <td>22.395569</td>\n",
       "      <td>172.398743</td>\n",
       "      <td>0.141414</td>\n",
       "      <td>0.0</td>\n",
       "    </tr>\n",
       "  </tbody>\n",
       "</table>\n",
       "</div>"
      ],
      "text/plain": [
       "      MAE_val    RMSE_val  Loss_val  RegLoss_val  epoch        MAE  \\\n",
       "29  55.919357  143.041794  0.349353          0.0     29  22.395569   \n",
       "\n",
       "          RMSE      Loss  RegLoss  \n",
       "29  172.398743  0.141414      0.0  "
      ]
     },
     "execution_count": 10,
     "metadata": {},
     "output_type": "execute_result"
    }
   ],
   "source": [
    "metrics.tail(1)"
   ]
  },
  {
   "cell_type": "code",
   "execution_count": 11,
   "metadata": {},
   "outputs": [
    {
     "name": "stderr",
     "output_type": "stream",
     "text": [
      "INFO - (NP.df_utils._infer_frequency) - Major frequency H corresponds to 99.977% of the data.\n",
      "INFO - (NP.df_utils._infer_frequency) - Defined frequency is equal to major frequency - H\n",
      "INFO - (NP.df_utils._infer_frequency) - Major frequency H corresponds to 99.977% of the data.\n",
      "INFO - (NP.df_utils._infer_frequency) - Defined frequency is equal to major frequency - H\n"
     ]
    },
    {
     "data": {
      "application/vnd.jupyter.widget-view+json": {
       "model_id": "1415e972eb994ff4832bbd647460f50d",
       "version_major": 2,
       "version_minor": 0
      },
      "text/plain": [
       "Predicting: 205it [00:00, ?it/s]"
      ]
     },
     "metadata": {},
     "output_type": "display_data"
    },
    {
     "name": "stderr",
     "output_type": "stream",
     "text": [
      "INFO - (NP.df_utils.return_df_in_original_format) - Returning df with no ID column\n"
     ]
    }
   ],
   "source": [
    "forecast = m.predict(df_test)"
   ]
  },
  {
   "cell_type": "code",
   "execution_count": 12,
   "metadata": {},
   "outputs": [],
   "source": [
    "m = m.highlight_nth_step_ahead_of_each_forecast(12)"
   ]
  },
  {
   "cell_type": "code",
   "execution_count": 13,
   "metadata": {},
   "outputs": [
    {
     "data": {
      "application/vnd.jupyter.widget-view+json": {
       "model_id": "550b9e92473248d786c5083a49741bf0",
       "version_major": 2,
       "version_minor": 0
      },
      "text/plain": [
       "FigureWidgetResampler({\n",
       "    'data': [{'line': {'color': '#2d92ff', 'width': 2},\n",
       "              'mode': 'lines',\n",
       "              'name': '<b style=\"color:sandybrown\">[R]</b> Predicted <i style=\"color:#fc9944\">~9h</i>',\n",
       "              'type': 'scatter',\n",
       "              'uid': 'c27d64b5-1987-4320-afa5-5cbd4c139a18',\n",
       "              'x': array([datetime.datetime(2023, 1, 1, 1, 55),\n",
       "                          datetime.datetime(2023, 1, 1, 5, 55),\n",
       "                          datetime.datetime(2023, 1, 1, 13, 55), ...,\n",
       "                          datetime.datetime(2023, 12, 31, 0, 54),\n",
       "                          datetime.datetime(2023, 12, 31, 7, 54),\n",
       "                          datetime.datetime(2023, 12, 31, 10, 54)], dtype=object),\n",
       "              'y': array([34.665623, 40.9706  , 52.821003, ..., 50.58447 , 56.104176, 62.45432 ],\n",
       "                         dtype=float32)},\n",
       "             {'marker': {'color': 'blue', 'size': 4, 'symbol': 'x'},\n",
       "              'mode': 'markers',\n",
       "              'name': '<b style=\"color:sandybrown\">[R]</b> Predicted <i style=\"color:#fc9944\">~9h</i>',\n",
       "              'type': 'scatter',\n",
       "              'uid': 'd59eda4d-7eb7-4147-b18f-11e258dac171',\n",
       "              'x': array([datetime.datetime(2023, 1, 1, 1, 55),\n",
       "                          datetime.datetime(2023, 1, 1, 5, 55),\n",
       "                          datetime.datetime(2023, 1, 1, 13, 55), ...,\n",
       "                          datetime.datetime(2023, 12, 31, 0, 54),\n",
       "                          datetime.datetime(2023, 12, 31, 7, 54),\n",
       "                          datetime.datetime(2023, 12, 31, 10, 54)], dtype=object),\n",
       "              'y': array([34.665623, 40.9706  , 52.821003, ..., 50.58447 , 56.104176, 62.45432 ],\n",
       "                         dtype=float32)},\n",
       "             {'marker': {'color': 'black', 'size': 4},\n",
       "              'mode': 'markers',\n",
       "              'name': '<b style=\"color:sandybrown\">[R]</b> Actual <i style=\"color:#fc9944\">~9h</i>',\n",
       "              'type': 'scatter',\n",
       "              'uid': '3df04d52-44f2-4d8a-90c8-bf330ddfc68e',\n",
       "              'x': array([datetime.datetime(2022, 12, 28, 14, 55),\n",
       "                          datetime.datetime(2022, 12, 28, 16, 55),\n",
       "                          datetime.datetime(2022, 12, 29, 0, 55), ...,\n",
       "                          datetime.datetime(2023, 12, 31, 6, 54),\n",
       "                          datetime.datetime(2023, 12, 31, 16, 54),\n",
       "                          datetime.datetime(2023, 12, 31, 22, 54)], dtype=object),\n",
       "              'y': array([  0.04,  28.37, -10.2 , ...,  22.36,  27.01,  12.56])}],\n",
       "    'layout': {'autosize': True,\n",
       "               'font': {'size': 10},\n",
       "               'height': 420,\n",
       "               'hovermode': 'x unified',\n",
       "               'margin': {'b': 0, 'l': 0, 'pad': 0, 'r': 10, 't': 10},\n",
       "               'showlegend': True,\n",
       "               'template': '...',\n",
       "               'title': {'font': {'size': 12}},\n",
       "               'width': 700,\n",
       "               'xaxis': {'linewidth': 1.5,\n",
       "                         'mirror': True,\n",
       "                         'rangeselector': {'buttons': [{'count': 7, 'label': '1w', 'step': 'day', 'stepmode': 'backward'},\n",
       "                                                       {'count': 1,\n",
       "                                                        'label': '1m',\n",
       "                                                        'step': 'month',\n",
       "                                                        'stepmode': 'backward'},\n",
       "                                                       {'count': 6,\n",
       "                                                        'label': '6m',\n",
       "                                                        'step': 'month',\n",
       "                                                        'stepmode': 'backward'},\n",
       "                                                       {'count': 1, 'label': '1y', 'step': 'year', 'stepmode': 'backward'},\n",
       "                                                       {'step': 'all'}]},\n",
       "                         'rangeslider': {'visible': True},\n",
       "                         'showline': True,\n",
       "                         'title': {'text': 'ds'},\n",
       "                         'type': 'date'},\n",
       "               'yaxis': {'linewidth': 1.5, 'mirror': True, 'showline': True, 'title': {'text': 'y'}}}\n",
       "})"
      ]
     },
     "execution_count": 13,
     "metadata": {},
     "output_type": "execute_result"
    }
   ],
   "source": [
    "m.plot(forecast)"
   ]
  },
  {
   "cell_type": "code",
   "execution_count": null,
   "metadata": {},
   "outputs": [],
   "source": []
  },
  {
   "cell_type": "code",
   "execution_count": 14,
   "metadata": {},
   "outputs": [
    {
     "data": {
      "application/vnd.jupyter.widget-view+json": {
       "model_id": "3dede80579c34a0cbfbb5df543de981f",
       "version_major": 2,
       "version_minor": 0
      },
      "text/plain": [
       "FigureWidgetResampler({\n",
       "    'data': [{'line': {'color': '#2d92ff', 'width': 2},\n",
       "              'mode': 'lines',\n",
       "              'name': '<b style=\"color:sandybrown\">[R]</b> Trend <i style=\"color:#fc9944\">~9h</i>',\n",
       "              'showlegend': False,\n",
       "              'type': 'scatter',\n",
       "              'uid': '54c5721b-2024-4bc5-ae07-21cd001be875',\n",
       "              'x': array([datetime.datetime(2022, 12, 31, 14, 55),\n",
       "                          datetime.datetime(2022, 12, 31, 21, 55),\n",
       "                          datetime.datetime(2022, 12, 31, 23, 55), ...,\n",
       "                          datetime.datetime(2023, 12, 31, 11, 54),\n",
       "                          datetime.datetime(2023, 12, 31, 13, 54),\n",
       "                          datetime.datetime(2023, 12, 31, 22, 54)], dtype=object),\n",
       "              'xaxis': 'x',\n",
       "              'y': array([50.870327, 50.882442, 50.88592 , ..., 66.041824, 66.0453  , 66.06088 ],\n",
       "                         dtype=float32),\n",
       "              'yaxis': 'y'},\n",
       "             {'line': {'color': '#2d92ff', 'width': 2},\n",
       "              'mode': 'lines',\n",
       "              'name': ('<b style=\"color:sandybrown\">[R' ... ' style=\"color:#fc9944\">~9h</i>'),\n",
       "              'showlegend': False,\n",
       "              'type': 'scatter',\n",
       "              'uid': '29eeef42-c9f0-43a6-838f-0c4a47b0d9a1',\n",
       "              'x': array([datetime.datetime(2022, 12, 31, 14, 55),\n",
       "                          datetime.datetime(2022, 12, 31, 20, 55),\n",
       "                          datetime.datetime(2023, 1, 1, 6, 55), ...,\n",
       "                          datetime.datetime(2023, 12, 31, 10, 54),\n",
       "                          datetime.datetime(2023, 12, 31, 20, 54),\n",
       "                          datetime.datetime(2023, 12, 31, 22, 54)], dtype=object),\n",
       "              'xaxis': 'x2',\n",
       "              'y': array([-4.4523153, -4.4689445, -4.496516 , ..., -4.4241724, -4.4522867,\n",
       "                          -4.4577103], dtype=float32),\n",
       "              'yaxis': 'y2'},\n",
       "             {'line': {'color': '#2d92ff', 'width': 2},\n",
       "              'mode': 'lines',\n",
       "              'name': ('<b style=\"color:sandybrown\">[R' ... ' style=\"color:#fc9944\">~9h</i>'),\n",
       "              'showlegend': False,\n",
       "              'type': 'scatter',\n",
       "              'uid': 'c4207b96-eed3-4298-8c16-a5ab69a83160',\n",
       "              'x': array([datetime.datetime(2022, 12, 31, 14, 55),\n",
       "                          datetime.datetime(2022, 12, 31, 21, 55),\n",
       "                          datetime.datetime(2023, 1, 1, 7, 55), ...,\n",
       "                          datetime.datetime(2023, 12, 31, 10, 54),\n",
       "                          datetime.datetime(2023, 12, 31, 15, 54),\n",
       "                          datetime.datetime(2023, 12, 31, 22, 54)], dtype=object),\n",
       "              'xaxis': 'x3',\n",
       "              'y': array([-0.96688104, -1.5640486 , -3.1254106 , ..., -3.3050513 , -2.7638102 ,\n",
       "                          -0.6178313 ], dtype=float32),\n",
       "              'yaxis': 'y3'},\n",
       "             {'line': {'color': '#2d92ff', 'width': 2},\n",
       "              'mode': 'lines',\n",
       "              'name': ('<b style=\"color:sandybrown\">[R' ... ' style=\"color:#fc9944\">~9h</i>'),\n",
       "              'showlegend': False,\n",
       "              'type': 'scatter',\n",
       "              'uid': '94b2b5af-54bd-4069-ada3-296467870160',\n",
       "              'x': array([datetime.datetime(2022, 12, 31, 14, 55),\n",
       "                          datetime.datetime(2022, 12, 31, 22, 55),\n",
       "                          datetime.datetime(2023, 1, 1, 2, 55), ...,\n",
       "                          datetime.datetime(2023, 12, 31, 12, 54),\n",
       "                          datetime.datetime(2023, 12, 31, 17, 54),\n",
       "                          datetime.datetime(2023, 12, 31, 22, 54)], dtype=object),\n",
       "              'xaxis': 'x4',\n",
       "              'y': array([ 8.935379 , -5.4250464, -8.927662 , ...,  7.7618475,  6.8259373,\n",
       "                          -5.363626 ], dtype=float32),\n",
       "              'yaxis': 'y4'},\n",
       "             {'line': {'color': '#2d92ff', 'width': 2},\n",
       "              'mode': 'lines',\n",
       "              'name': ('<b style=\"color:sandybrown\">[R' ... ' style=\"color:#fc9944\">~9h</i>'),\n",
       "              'showlegend': False,\n",
       "              'type': 'scatter',\n",
       "              'uid': 'd2986bab-b32a-4159-89b5-3e4b5c1e6284',\n",
       "              'x': array([datetime.datetime(2023, 1, 1, 1, 55),\n",
       "                          datetime.datetime(2023, 1, 1, 2, 55),\n",
       "                          datetime.datetime(2023, 1, 1, 10, 55), ...,\n",
       "                          datetime.datetime(2023, 12, 30, 16, 54),\n",
       "                          datetime.datetime(2023, 12, 31, 1, 54),\n",
       "                          datetime.datetime(2023, 12, 31, 10, 54)], dtype=object),\n",
       "              'xaxis': 'x5',\n",
       "              'y': array([0., 0., 0., ..., 0., 0., 0.], dtype=float32),\n",
       "              'yaxis': 'y5'},\n",
       "             {'line': {'color': '#2d92ff', 'width': 2},\n",
       "              'mode': 'lines',\n",
       "              'name': ('<b style=\"color:sandybrown\">[R' ... ' style=\"color:#fc9944\">~9h</i>'),\n",
       "              'showlegend': False,\n",
       "              'type': 'scatter',\n",
       "              'uid': '94c0b7ce-547f-4684-9021-f96182eb2889',\n",
       "              'x': array([datetime.datetime(2022, 12, 31, 14, 55),\n",
       "                          datetime.datetime(2022, 12, 31, 15, 55),\n",
       "                          datetime.datetime(2022, 12, 31, 23, 55), ...,\n",
       "                          datetime.datetime(2023, 12, 31, 4, 54),\n",
       "                          datetime.datetime(2023, 12, 31, 13, 54),\n",
       "                          datetime.datetime(2023, 12, 31, 22, 54)], dtype=object),\n",
       "              'xaxis': 'x6',\n",
       "              'y': array([0., 0., 0., ..., 0., 0., 0.], dtype=float32),\n",
       "              'yaxis': 'y6'}],\n",
       "    'layout': {'autosize': True,\n",
       "               'font': {'size': 10},\n",
       "               'height': 1260,\n",
       "               'hovermode': 'x unified',\n",
       "               'legend': {'traceorder': 'reversed', 'y': 0.1},\n",
       "               'margin': {'b': 0, 'l': 0, 'pad': 0, 'r': 10, 't': 10},\n",
       "               'template': '...',\n",
       "               'title': {'font': {'size': 12}},\n",
       "               'width': 700,\n",
       "               'xaxis': {'anchor': 'y',\n",
       "                         'domain': [0.0, 1.0],\n",
       "                         'linewidth': 1.5,\n",
       "                         'mirror': True,\n",
       "                         'range': [2022-12-13 08:55:00, 2024-01-19 04:54:00],\n",
       "                         'showline': True,\n",
       "                         'title': {'text': 'ds'},\n",
       "                         'type': 'date'},\n",
       "               'xaxis2': {'anchor': 'y2',\n",
       "                          'domain': [0.0, 1.0],\n",
       "                          'linewidth': 1.5,\n",
       "                          'mirror': True,\n",
       "                          'range': [2022-12-13 08:55:00, 2024-01-19 04:54:00],\n",
       "                          'showline': True,\n",
       "                          'title': {'text': 'ds'},\n",
       "                          'type': 'date'},\n",
       "               'xaxis3': {'anchor': 'y3',\n",
       "                          'domain': [0.0, 1.0],\n",
       "                          'linewidth': 1.5,\n",
       "                          'mirror': True,\n",
       "                          'range': [2022-12-13 08:55:00, 2024-01-19 04:54:00],\n",
       "                          'showline': True,\n",
       "                          'title': {'text': 'ds'},\n",
       "                          'type': 'date'},\n",
       "               'xaxis4': {'anchor': 'y4',\n",
       "                          'domain': [0.0, 1.0],\n",
       "                          'linewidth': 1.5,\n",
       "                          'mirror': True,\n",
       "                          'range': [2022-12-13 08:55:00, 2024-01-19 04:54:00],\n",
       "                          'showline': True,\n",
       "                          'title': {'text': 'ds'},\n",
       "                          'type': 'date'},\n",
       "               'xaxis5': {'anchor': 'y5',\n",
       "                          'domain': [0.0, 1.0],\n",
       "                          'linewidth': 1.5,\n",
       "                          'mirror': True,\n",
       "                          'range': [2022-12-13 20:55:00, 2024-01-18 15:54:00],\n",
       "                          'showline': True,\n",
       "                          'title': {'text': 'ds'},\n",
       "                          'type': 'date'},\n",
       "               'xaxis6': {'anchor': 'y6',\n",
       "                          'domain': [0.0, 1.0],\n",
       "                          'linewidth': 1.5,\n",
       "                          'mirror': True,\n",
       "                          'range': [2022-12-13 08:55:00, 2024-01-19 04:54:00],\n",
       "                          'showline': True,\n",
       "                          'title': {'text': 'ds'},\n",
       "                          'type': 'date'},\n",
       "               'yaxis': {'anchor': 'x',\n",
       "                         'domain': [0.875, 1.0],\n",
       "                         'linewidth': 1.5,\n",
       "                         'mirror': True,\n",
       "                         'rangemode': 'normal',\n",
       "                         'showline': True,\n",
       "                         'title': {'text': 'Trend'}},\n",
       "               'yaxis2': {'anchor': 'x2',\n",
       "                          'domain': [0.7, 0.825],\n",
       "                          'linewidth': 1.5,\n",
       "                          'mirror': True,\n",
       "                          'rangemode': 'tozero',\n",
       "                          'showline': True,\n",
       "                          'title': {'text': 'yearly seasonality'}},\n",
       "               'yaxis3': {'anchor': 'x3',\n",
       "                          'domain': [0.525, 0.65],\n",
       "                          'linewidth': 1.5,\n",
       "                          'mirror': True,\n",
       "                          'rangemode': 'tozero',\n",
       "                          'showline': True,\n",
       "                          'title': {'text': 'weekly seasonality'}},\n",
       "               'yaxis4': {'anchor': 'x4',\n",
       "                          'domain': [0.35, 0.475],\n",
       "                          'linewidth': 1.5,\n",
       "                          'mirror': True,\n",
       "                          'rangemode': 'tozero',\n",
       "                          'showline': True,\n",
       "                          'title': {'text': 'daily seasonality'}},\n",
       "               'yaxis5': {'anchor': 'x5',\n",
       "                          'domain': [0.175, 0.3],\n",
       "                          'linewidth': 1.5,\n",
       "                          'mirror': True,\n",
       "                          'rangemode': 'tozero',\n",
       "                          'showline': True,\n",
       "                          'title': {'text': 'AR (12)-ahead'}},\n",
       "               'yaxis6': {'anchor': 'x6',\n",
       "                          'domain': [0.0, 0.125],\n",
       "                          'linewidth': 1.5,\n",
       "                          'mirror': True,\n",
       "                          'rangemode': 'tozero',\n",
       "                          'showline': True,\n",
       "                          'title': {'text': 'Additive Events'}}}\n",
       "})"
      ]
     },
     "execution_count": 14,
     "metadata": {},
     "output_type": "execute_result"
    }
   ],
   "source": [
    "m.plot_components(forecast)"
   ]
  },
  {
   "cell_type": "code",
   "execution_count": 15,
   "metadata": {},
   "outputs": [
    {
     "data": {
      "application/vnd.jupyter.widget-view+json": {
       "model_id": "9051d4c058004228a0338561ef2cb26f",
       "version_major": 2,
       "version_minor": 0
      },
      "text/plain": [
       "FigureWidgetResampler({\n",
       "    'data': [{'fill': 'none',\n",
       "              'line': {'color': '#2d92ff', 'width': 2},\n",
       "              'mode': 'lines',\n",
       "              'name': '<b style=\"color:sandybrown\">[R]</b> Trend <i style=\"color:#fc9944\">~2D</i>',\n",
       "              'type': 'scatter',\n",
       "              'uid': 'f1a43bd3-51b1-4cb8-b8d5-e83d690d629b',\n",
       "              'x': array([datetime.datetime(2017, 1, 1, 0, 0),\n",
       "                          datetime.datetime(2017, 1, 2, 23, 0),\n",
       "                          datetime.datetime(2017, 1, 5, 7, 0), ...,\n",
       "                          datetime.datetime(2022, 12, 29, 6, 0),\n",
       "                          datetime.datetime(2022, 12, 31, 5, 0),\n",
       "                          datetime.datetime(2022, 12, 31, 13, 0)], dtype=object),\n",
       "              'xaxis': 'x',\n",
       "              'y': array([26.76852091, 26.74113525, 26.70850554, ..., 50.77171061, 50.85313829,\n",
       "                          50.86699832]),\n",
       "              'yaxis': 'y'},\n",
       "             {'marker': {'color': '#2d92ff'},\n",
       "              'name': 'Trend Rate Change',\n",
       "              'type': 'bar',\n",
       "              'uid': 'b694ea60-e84f-4352-928f-fd8901f93fc7',\n",
       "              'x': array([Timestamp('2017-01-01 00:00:00'),\n",
       "                          Timestamp('2017-11-01 05:55:58.333333'),\n",
       "                          Timestamp('2018-09-01 11:51:56.666667'),\n",
       "                          Timestamp('2019-07-02 17:47:55'),\n",
       "                          Timestamp('2020-05-01 23:43:53.333333'),\n",
       "                          Timestamp('2021-03-02 05:39:51.666667'),\n",
       "                          Timestamp('2022-12-31 13:55:00')], dtype=object),\n",
       "              'xaxis': 'x2',\n",
       "              'y': array([-1.42210698,  0.46792039, -0.32810095, -0.33559442,  0.89110774,\n",
       "                           0.37177873,  0.        ]),\n",
       "              'yaxis': 'y2'},\n",
       "             {'fill': 'none',\n",
       "              'line': {'color': '#2d92ff', 'width': 2},\n",
       "              'mode': 'lines',\n",
       "              'name': 'yearly',\n",
       "              'type': 'scatter',\n",
       "              'uid': '15083c26-17b5-435e-9292-705dec11a8ff',\n",
       "              'x': array([datetime.datetime(2017, 1, 1, 0, 0),\n",
       "                          datetime.datetime(2017, 1, 2, 0, 0),\n",
       "                          datetime.datetime(2017, 1, 3, 0, 0), ...,\n",
       "                          datetime.datetime(2017, 12, 29, 0, 0),\n",
       "                          datetime.datetime(2017, 12, 30, 0, 0),\n",
       "                          datetime.datetime(2017, 12, 31, 0, 0)], dtype=object),\n",
       "              'xaxis': 'x3',\n",
       "              'y': array([-4.51032  , -4.5743713, -4.63619  , ..., -4.2875743, -4.3583517,\n",
       "                          -4.427122 ], dtype=float32),\n",
       "              'yaxis': 'y3'},\n",
       "             {'fill': 'none',\n",
       "              'line': {'color': '#2d92ff', 'width': 2},\n",
       "              'mode': 'lines',\n",
       "              'name': 'weekly',\n",
       "              'type': 'scatter',\n",
       "              'uid': 'ec858733-c147-4499-9f48-f729d1fdafa5',\n",
       "              'x': array([  0,   1,   2,   3,   4,   5,   6,   7,   8,   9,  10,  11,  12,  13,\n",
       "                           14,  15,  16,  17,  18,  19,  20,  21,  22,  23,  24,  25,  26,  27,\n",
       "                           28,  29,  30,  31,  32,  33,  34,  35,  36,  37,  38,  39,  40,  41,\n",
       "                           42,  43,  44,  45,  46,  47,  48,  49,  50,  51,  52,  53,  54,  55,\n",
       "                           56,  57,  58,  59,  60,  61,  62,  63,  64,  65,  66,  67,  68,  69,\n",
       "                           70,  71,  72,  73,  74,  75,  76,  77,  78,  79,  80,  81,  82,  83,\n",
       "                           84,  85,  86,  87,  88,  89,  90,  91,  92,  93,  94,  95,  96,  97,\n",
       "                           98,  99, 100, 101, 102, 103, 104, 105, 106, 107, 108, 109, 110, 111,\n",
       "                          112, 113, 114, 115, 116, 117, 118, 119, 120, 121, 122, 123, 124, 125,\n",
       "                          126, 127, 128, 129, 130, 131, 132, 133, 134, 135, 136, 137, 138, 139,\n",
       "                          140, 141, 142, 143, 144, 145, 146, 147, 148, 149, 150, 151, 152, 153,\n",
       "                          154, 155, 156, 157, 158, 159, 160, 161, 162, 163, 164, 165, 166, 167]),\n",
       "              'xaxis': 'x4',\n",
       "              'y': array([-1.8583757 , -2.0162497 , -2.1802278 , -2.3614783 , -2.540888  ,\n",
       "                          -2.7077947 , -2.8660734 , -3.0077043 , -3.1343768 , -3.2245014 ,\n",
       "                          -3.2824032 , -3.3014898 , -3.279726  , -3.2106473 , -3.0973282 ,\n",
       "                          -2.9415078 , -2.7408571 , -2.490933  , -2.219957  , -1.9189001 ,\n",
       "                          -1.5819979 , -1.254881  , -0.9043293 , -0.5760246 , -0.26349753,\n",
       "                           0.02596067,  0.28188255,  0.5183644 ,  0.7034017 ,  0.8421192 ,\n",
       "                           0.93169856,  0.977138  ,  0.97984177,  0.9435659 ,  0.87272584,\n",
       "                           0.77554363,  0.6550992 ,  0.51881766,  0.38549116,  0.25985795,\n",
       "                           0.14713533,  0.05025933, -0.02050643, -0.05953513, -0.06795782,\n",
       "                          -0.03952616,  0.02071814,  0.11084411,  0.22693904,  0.36240664,\n",
       "                           0.5112987 ,  0.67624265,  0.84520584,  0.9982949 ,  1.1371001 ,\n",
       "                           1.2545077 ,  1.3513712 ,  1.4156228 ,  1.4473208 ,  1.4442847 ,\n",
       "                           1.4104086 ,  1.3400378 ,  1.2425528 ,  1.1252322 ,  0.99225974,\n",
       "                           0.8430159 ,  0.6910851 ,  0.5498259 ,  0.40723592,  0.29471514,\n",
       "                           0.1936797 ,  0.12690541,  0.09423081,  0.08740939,  0.11670622,\n",
       "                           0.16962841,  0.25590596,  0.36797392,  0.4904677 ,  0.6295374 ,\n",
       "                           0.7682717 ,  0.9096568 ,  1.0336727 ,  1.1514053 ,  1.2467774 ,\n",
       "                           1.3102248 ,  1.3443209 ,  1.3452319 ,  1.3179808 ,  1.2536211 ,\n",
       "                           1.1671618 ,  1.0518237 ,  0.92058593,  0.765025  ,  0.60067034,\n",
       "                           0.45199564,  0.29891357,  0.16390708,  0.04187844, -0.05867892,\n",
       "                          -0.12592852, -0.16321768, -0.17190604, -0.14429702, -0.08563016,\n",
       "                          -0.00369439,  0.10263855,  0.2231312 ,  0.36612946,  0.5179934 ,\n",
       "                           0.6596608 ,  0.80050445,  0.9281617 ,  1.044115  ,  1.1386255 ,\n",
       "                           1.2083715 ,  1.2570642 ,  1.2793801 ,  1.2714401 ,  1.2459922 ,\n",
       "                           1.197126  ,  1.1344727 ,  1.0539722 ,  0.9590313 ,  0.8671349 ,\n",
       "                           0.77121675,  0.68278974,  0.59960794,  0.5249767 ,  0.46410543,\n",
       "                           0.41778848,  0.38522452,  0.36739042,  0.36403024,  0.36436296,\n",
       "                           0.37361556,  0.3883284 ,  0.4069928 ,  0.42458034,  0.43123722,\n",
       "                           0.42916885,  0.41711408,  0.3942947 ,  0.35790065,  0.30892518,\n",
       "                           0.24775937,  0.17389601,  0.08536954, -0.01182576, -0.10970022,\n",
       "                          -0.2059846 , -0.30711502, -0.40995657, -0.50256276, -0.5946447 ,\n",
       "                          -0.6745328 , -0.75933313, -0.8337812 , -0.90218717, -0.9660157 ,\n",
       "                          -1.0342616 , -1.1073381 , -1.1796418 , -1.2608297 , -1.3531972 ,\n",
       "                          -1.4621509 , -1.5867369 , -1.716077  ], dtype=float32),\n",
       "              'yaxis': 'y4'},\n",
       "             {'fill': 'none',\n",
       "              'line': {'color': '#2d92ff', 'width': 2},\n",
       "              'mode': 'lines',\n",
       "              'name': 'daily',\n",
       "              'type': 'scatter',\n",
       "              'uid': '5a5f24f2-e39f-4db5-adc5-e3f745be072c',\n",
       "              'x': array([  0,   1,   2, ..., 285, 286, 287]),\n",
       "              'xaxis': 'x5',\n",
       "              'y': array([-7.4174585, -7.6089582, -7.7805576, ..., -6.9641323, -7.0673466,\n",
       "                          -7.2314434], dtype=float32),\n",
       "              'yaxis': 'y5'},\n",
       "             {'marker': {'color': '#2d92ff'},\n",
       "              'name': 'AR',\n",
       "              'type': 'bar',\n",
       "              'uid': 'ef0226dd-4be2-482d-b9f2-321014246fe4',\n",
       "              'width': 0.8,\n",
       "              'x': array([72, 71, 70, 69, 68, 67, 66, 65, 64, 63, 62, 61, 60, 59, 58, 57, 56, 55,\n",
       "                          54, 53, 52, 51, 50, 49, 48, 47, 46, 45, 44, 43, 42, 41, 40, 39, 38, 37,\n",
       "                          36, 35, 34, 33, 32, 31, 30, 29, 28, 27, 26, 25, 24, 23, 22, 21, 20, 19,\n",
       "                          18, 17, 16, 15, 14, 13, 12, 11, 10,  9,  8,  7,  6,  5,  4,  3,  2,  1]),\n",
       "              'xaxis': 'x6',\n",
       "              'y': array([-0.00596047, -0.00365812,  0.01625122,  0.01492422,  0.00981718,\n",
       "                           0.0096468 ,  0.01007885,  0.02086349, -0.00787508,  0.01667771,\n",
       "                          -0.01830438, -0.00991771,  0.02298691,  0.01694389, -0.00410054,\n",
       "                          -0.00809908,  0.00824722,  0.02233956, -0.0004456 , -0.00636693,\n",
       "                          -0.0093532 , -0.01066329, -0.0100458 , -0.03223919, -0.01089954,\n",
       "                          -0.00057116, -0.01473435, -0.01563495, -0.00248536,  0.00721524,\n",
       "                          -0.02752854, -0.00484181, -0.00699126, -0.01666357,  0.00333511,\n",
       "                          -0.01069959, -0.01307376,  0.00557715, -0.00406726,  0.00406817,\n",
       "                           0.00487045, -0.0074277 ,  0.01688826,  0.00321796,  0.01652553,\n",
       "                           0.01226911,  0.01235193,  0.00172262,  0.0220973 ,  0.01474132,\n",
       "                           0.04493789, -0.00135486,  0.02290919,  0.02736127,  0.02069271,\n",
       "                           0.03459553,  0.02031707,  0.03013355,  0.04008456,  0.02351034,\n",
       "                           0.03126147,  0.00994739,  0.02155666,  0.03656615,  0.04423637,\n",
       "                           0.05330415,  0.01460751,  0.06356554,  0.0481681 ,  0.07503479,\n",
       "                           0.09633803,  0.16759953], dtype=float32),\n",
       "              'yaxis': 'y6'},\n",
       "             {'marker': {'color': '#2d92ff'},\n",
       "              'name': 'Additive event',\n",
       "              'type': 'bar',\n",
       "              'uid': '80ba58cc-3009-46b8-bb36-f7bad41c97e0',\n",
       "              'width': 0.8,\n",
       "              'x': array(['Independence Day_+1', 'Independence Day (Observed)_+1',\n",
       "                          \"New Year's Day (Observed)_+1\", 'Veterans Day_+1', \"New Year's Day_+1\",\n",
       "                          'Labor Day_+1', 'Martin Luther King Jr. Day_+1',\n",
       "                          \"Washington's Birthday_+1\", 'Christmas Day (Observed)_+1',\n",
       "                          'Juneteenth National Independence Day_+1',\n",
       "                          'Juneteenth National Independence Day (Observed)_+1', 'Columbus Day_+1',\n",
       "                          'Veterans Day (Observed)_+1', 'Christmas Day_+1', 'Memorial Day_+1',\n",
       "                          'Thanksgiving_+1'], dtype=object),\n",
       "              'xaxis': 'x7',\n",
       "              'y': [-6.608076095581055, -37.034854888916016, 35.31886672973633,\n",
       "                    28.804134368896484, -27.866559982299805, -10.019209861755371,\n",
       "                    -28.991941452026367, -16.22835350036621, -3.4808077812194824,\n",
       "                    3.3446497917175293, 11.857023239135742, -23.811513900756836,\n",
       "                    -3.169276475906372, 28.519014358520508, -83.5217514038086,\n",
       "                    18.213960647583008],\n",
       "              'yaxis': 'y7'}],\n",
       "    'layout': {'autosize': True,\n",
       "               'font': {'size': 10},\n",
       "               'height': 1470,\n",
       "               'hovermode': 'x unified',\n",
       "               'margin': {'b': 0, 'l': 0, 'pad': 0, 'r': 10, 't': 10},\n",
       "               'showlegend': False,\n",
       "               'template': '...',\n",
       "               'title': {'font': {'size': 12}},\n",
       "               'width': 700,\n",
       "               'xaxis': {'anchor': 'y',\n",
       "                         'domain': [0.0, 1.0],\n",
       "                         'linewidth': 1.5,\n",
       "                         'mirror': True,\n",
       "                         'range': [2016-09-13 11:00:00, 2023-04-20 02:00:00],\n",
       "                         'showline': True,\n",
       "                         'title': {'text': 'ds'},\n",
       "                         'type': 'date'},\n",
       "               'xaxis2': {'anchor': 'y2',\n",
       "                          'domain': [0.0, 1.0],\n",
       "                          'linewidth': 1.5,\n",
       "                          'mirror': True,\n",
       "                          'range': [2017-01-01 00:00:00, 2022-12-31 13:55:00],\n",
       "                          'showline': True,\n",
       "                          'title': {'text': 'Trend segment'},\n",
       "                          'type': 'date'},\n",
       "               'xaxis3': {'anchor': 'y3',\n",
       "                          'domain': [0.0, 1.0],\n",
       "                          'linewidth': 1.5,\n",
       "                          'mirror': True,\n",
       "                          'range': [2016-12-14 00:00:00, 2018-01-18 00:00:00],\n",
       "                          'showline': True,\n",
       "                          'tickformat': '%B %e',\n",
       "                          'title': {'text': 'Day of year'}},\n",
       "               'xaxis4': {'anchor': 'y4',\n",
       "                          'domain': [0.0, 1.0],\n",
       "                          'linewidth': 1.5,\n",
       "                          'mirror': True,\n",
       "                          'range': [-8, 175],\n",
       "                          'showline': True,\n",
       "                          'tickmode': 'array',\n",
       "                          'ticktext': [Sunday, Monday, Tuesday, Wednesday,\n",
       "                                       Thursday, Friday, Saturday, Sunday, Sunday],\n",
       "                          'tickvals': [0, 24, 48, 72, 96, 120, 144, 168, 192],\n",
       "                          'title': {'text': 'Day of week'}},\n",
       "               'xaxis5': {'anchor': 'y5',\n",
       "                          'domain': [0.0, 1.0],\n",
       "                          'linewidth': 1.5,\n",
       "                          'mirror': True,\n",
       "                          'range': [-14, 301],\n",
       "                          'showline': True,\n",
       "                          'tickmode': 'array',\n",
       "                          'ticktext': [0, 1, 2, 3, 4, 5, 6, 7, 8, 9, 10, 11, 12,\n",
       "                                       13, 14, 15, 16, 17, 18, 19, 20, 21, 22, 23,\n",
       "                                       24],\n",
       "                          'tickvals': [0, 12, 24, 36, 48, 60, 72, 84, 96, 108,\n",
       "                                       120, 132, 144, 156, 168, 180, 192, 204, 216,\n",
       "                                       228, 240, 252, 264, 276, 288],\n",
       "                          'title': {'text': 'Hour of day'}},\n",
       "               'xaxis6': {'anchor': 'y6',\n",
       "                          'domain': [0.0, 1.0],\n",
       "                          'linewidth': 1.5,\n",
       "                          'mirror': True,\n",
       "                          'range': [-4, 77],\n",
       "                          'showline': True,\n",
       "                          'title': {'text': 'AR lag number'}},\n",
       "               'xaxis7': {'anchor': 'y7',\n",
       "                          'domain': [0.0, 1.0],\n",
       "                          'linewidth': 1.5,\n",
       "                          'mirror': True,\n",
       "                          'showline': True,\n",
       "                          'title': {'text': 'Additive event name'}},\n",
       "               'yaxis': {'anchor': 'x',\n",
       "                         'domain': [0.8938775510204082, 1.0],\n",
       "                         'linewidth': 1.5,\n",
       "                         'mirror': True,\n",
       "                         'rangemode': 'normal',\n",
       "                         'showline': True,\n",
       "                         'title': {'text': 'Trend'}},\n",
       "               'yaxis2': {'anchor': 'x2',\n",
       "                          'domain': [0.7448979591836735, 0.8510204081632654],\n",
       "                          'linewidth': 1.5,\n",
       "                          'mirror': True,\n",
       "                          'rangemode': 'normal',\n",
       "                          'showline': True,\n",
       "                          'title': {'text': 'Trend Rate Change'}},\n",
       "               'yaxis3': {'anchor': 'x3',\n",
       "                          'domain': [0.5959183673469388, 0.7020408163265307],\n",
       "                          'linewidth': 1.5,\n",
       "                          'mirror': True,\n",
       "                          'rangemode': 'normal',\n",
       "                          'showline': True,\n",
       "                          'title': {'text': 'Seasonality: yearly'}},\n",
       "               'yaxis4': {'anchor': 'x4',\n",
       "                          'domain': [0.4469387755102041, 0.553061224489796],\n",
       "                          'linewidth': 1.5,\n",
       "                          'mirror': True,\n",
       "                          'rangemode': 'normal',\n",
       "                          'showline': True,\n",
       "                          'title': {'text': 'Seasonality: weekly'}},\n",
       "               'yaxis5': {'anchor': 'x5',\n",
       "                          'domain': [0.2979591836734694, 0.40408163265306124],\n",
       "                          'linewidth': 1.5,\n",
       "                          'mirror': True,\n",
       "                          'rangemode': 'normal',\n",
       "                          'showline': True,\n",
       "                          'title': {'text': 'Seasonality: daily'}},\n",
       "               'yaxis6': {'anchor': 'x6',\n",
       "                          'domain': [0.1489795918367347, 0.25510204081632654],\n",
       "                          'linewidth': 1.5,\n",
       "                          'mirror': True,\n",
       "                          'rangemode': 'normal',\n",
       "                          'showline': True,\n",
       "                          'title': {'text': 'AR weight (12)-ahead'}},\n",
       "               'yaxis7': {'anchor': 'x7',\n",
       "                          'domain': [0.0, 0.10612244897959185],\n",
       "                          'linewidth': 1.5,\n",
       "                          'mirror': True,\n",
       "                          'rangemode': 'normal',\n",
       "                          'showline': True,\n",
       "                          'title': {'text': 'Additive event weight'}}}\n",
       "})"
      ]
     },
     "execution_count": 15,
     "metadata": {},
     "output_type": "execute_result"
    }
   ],
   "source": [
    "m.plot_parameters()"
   ]
  },
  {
   "cell_type": "code",
   "execution_count": null,
   "metadata": {},
   "outputs": [],
   "source": []
  }
 ],
 "metadata": {
  "kernelspec": {
   "display_name": ".venv",
   "language": "python",
   "name": "python3"
  },
  "language_info": {
   "codemirror_mode": {
    "name": "ipython",
    "version": 3
   },
   "file_extension": ".py",
   "mimetype": "text/x-python",
   "name": "python",
   "nbconvert_exporter": "python",
   "pygments_lexer": "ipython3",
   "version": "3.10.12"
  }
 },
 "nbformat": 4,
 "nbformat_minor": 2
}
